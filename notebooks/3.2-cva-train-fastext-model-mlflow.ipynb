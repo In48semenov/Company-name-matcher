{
  "cells": [
    {
      "cell_type": "code",
      "execution_count": 2,
      "metadata": {
        "id": "GDnBrVfwCqur"
      },
      "outputs": [],
      "source": [
        "import re\n",
        "import pandas as pd\n",
        "\n",
        "import nltk\n",
        "from nltk.tokenize import wordpunct_tokenize\n",
        "from gensim.models.fasttext import FastText\n",
        "\n",
        "\n",
        "from sklearn.metrics import precision_score\n",
        "from sklearn.metrics import f1_score\n",
        "from sklearn.metrics import recall_score\n",
        "from sklearn.model_selection import train_test_split"
      ]
    },
    {
      "cell_type": "code",
      "execution_count": 3,
      "metadata": {
        "colab": {
          "base_uri": "https://localhost:8080/",
          "height": 419
        },
        "id": "Hxs0uiKt1uCZ",
        "outputId": "51e6c38d-f8d9-470a-d3d7-828484e80290"
      },
      "outputs": [
        {
          "data": {
            "text/html": [
              "<div>\n",
              "<style scoped>\n",
              "    .dataframe tbody tr th:only-of-type {\n",
              "        vertical-align: middle;\n",
              "    }\n",
              "\n",
              "    .dataframe tbody tr th {\n",
              "        vertical-align: top;\n",
              "    }\n",
              "\n",
              "    .dataframe thead th {\n",
              "        text-align: right;\n",
              "    }\n",
              "</style>\n",
              "<table border=\"1\" class=\"dataframe\">\n",
              "  <thead>\n",
              "    <tr style=\"text-align: right;\">\n",
              "      <th></th>\n",
              "      <th>name_1</th>\n",
              "      <th>name_2</th>\n",
              "      <th>is_duplicate</th>\n",
              "    </tr>\n",
              "  </thead>\n",
              "  <tbody>\n",
              "    <tr>\n",
              "      <th>0</th>\n",
              "      <td>iko industries ltd.</td>\n",
              "      <td>enormous industrial trade pvt., ltd.</td>\n",
              "      <td>0</td>\n",
              "    </tr>\n",
              "    <tr>\n",
              "      <th>1</th>\n",
              "      <td>apcotex industries ltd.</td>\n",
              "      <td>technocraft industries (india) ltd.</td>\n",
              "      <td>0</td>\n",
              "    </tr>\n",
              "    <tr>\n",
              "      <th>2</th>\n",
              "      <td>rishichem distributors pvt., ltd.</td>\n",
              "      <td>dsa</td>\n",
              "      <td>0</td>\n",
              "    </tr>\n",
              "    <tr>\n",
              "      <th>3</th>\n",
              "      <td>powermax rubber factory</td>\n",
              "      <td>co. one</td>\n",
              "      <td>0</td>\n",
              "    </tr>\n",
              "    <tr>\n",
              "      <th>4</th>\n",
              "      <td>tress a/s</td>\n",
              "      <td>longyou industries park zhejiang</td>\n",
              "      <td>0</td>\n",
              "    </tr>\n",
              "    <tr>\n",
              "      <th>...</th>\n",
              "      <td>...</td>\n",
              "      <td>...</td>\n",
              "      <td>...</td>\n",
              "    </tr>\n",
              "    <tr>\n",
              "      <th>497814</th>\n",
              "      <td>bit-mat products</td>\n",
              "      <td>the goodyear tire and rubber company</td>\n",
              "      <td>0</td>\n",
              "    </tr>\n",
              "    <tr>\n",
              "      <th>497815</th>\n",
              "      <td>bnd trading co., ltd.</td>\n",
              "      <td>zhong shan yue liang economy&amp; trade imp. &amp; exp...</td>\n",
              "      <td>0</td>\n",
              "    </tr>\n",
              "    <tr>\n",
              "      <th>497816</th>\n",
              "      <td>xeikon industrial co., ltd. of dongguan city</td>\n",
              "      <td>yi cheng trading co., ltd. of dongguan city</td>\n",
              "      <td>0</td>\n",
              "    </tr>\n",
              "    <tr>\n",
              "      <th>497817</th>\n",
              "      <td>shanghai kechuan trading co., ltd.</td>\n",
              "      <td>shanghai m&amp;g stationery inc.</td>\n",
              "      <td>0</td>\n",
              "    </tr>\n",
              "    <tr>\n",
              "      <th>497818</th>\n",
              "      <td>dih wei industries co.</td>\n",
              "      <td>burlington industries corporate</td>\n",
              "      <td>0</td>\n",
              "    </tr>\n",
              "  </tbody>\n",
              "</table>\n",
              "<p>497819 rows × 3 columns</p>\n",
              "</div>"
            ],
            "text/plain": [
              "                                              name_1  \\\n",
              "0                                iko industries ltd.   \n",
              "1                            apcotex industries ltd.   \n",
              "2                  rishichem distributors pvt., ltd.   \n",
              "3                            powermax rubber factory   \n",
              "4                                          tress a/s   \n",
              "...                                              ...   \n",
              "497814                              bit-mat products   \n",
              "497815                         bnd trading co., ltd.   \n",
              "497816  xeikon industrial co., ltd. of dongguan city   \n",
              "497817            shanghai kechuan trading co., ltd.   \n",
              "497818                        dih wei industries co.   \n",
              "\n",
              "                                                   name_2  is_duplicate  \n",
              "0                    enormous industrial trade pvt., ltd.             0  \n",
              "1                     technocraft industries (india) ltd.             0  \n",
              "2                                                     dsa             0  \n",
              "3                                                 co. one             0  \n",
              "4                        longyou industries park zhejiang             0  \n",
              "...                                                   ...           ...  \n",
              "497814               the goodyear tire and rubber company             0  \n",
              "497815  zhong shan yue liang economy& trade imp. & exp...             0  \n",
              "497816        yi cheng trading co., ltd. of dongguan city             0  \n",
              "497817                       shanghai m&g stationery inc.             0  \n",
              "497818                    burlington industries corporate             0  \n",
              "\n",
              "[497819 rows x 3 columns]"
            ]
          },
          "execution_count": 3,
          "metadata": {},
          "output_type": "execute_result"
        }
      ],
      "source": [
        "df = pd.read_csv('../data/preprocess_train.csv')\n",
        "df"
      ]
    },
    {
      "cell_type": "code",
      "execution_count": 4,
      "metadata": {
        "id": "nqmB_INiO0by"
      },
      "outputs": [],
      "source": [
        "df['name_1'] = df['name_1'].apply(lambda x: re.sub(r'[^\\w\\s]+|[\\d]+', r'', x))\n",
        "df['name_1'] = df['name_1'].apply(lambda x: re.sub(r'[.,\"\\'-?:!;&]', r'', x))\n",
        "df['name_2'] = df['name_2'].apply(lambda x: re.sub(r'[^\\w\\s]+|[\\d]+', r'', x))\n",
        "df['name_2'] = df['name_2'].apply(lambda x: re.sub(r'[.,\"\\'-?:!;&]', r'', x))\n",
        "\n",
        "df['name_1'] = df['name_1'].apply(lambda x: x.replace(' ', '') if len(x) <= 6 else x)\n",
        "df['name_2'] = df['name_2'].apply(lambda x: x.replace(' ', '') if len(x) <= 6 else x) "
      ]
    },
    {
      "cell_type": "code",
      "execution_count": 6,
      "metadata": {
        "id": "CqOreywE2Bve"
      },
      "outputs": [],
      "source": [
        "all_sentens = list(set(df['name_1']) & set(df['name_2']))"
      ]
    },
    {
      "cell_type": "code",
      "execution_count": null,
      "metadata": {},
      "outputs": [],
      "source": [
        "X_train, X_test, y_train, y_test = train_test_split(X, y, test_size=0.33, random_state=42)"
      ]
    },
    {
      "cell_type": "code",
      "execution_count": 7,
      "metadata": {
        "id": "rYy2TV8nFNJI"
      },
      "outputs": [
        {
          "ename": "NameError",
          "evalue": "name 'X_train' is not defined",
          "output_type": "error",
          "traceback": [
            "\u001b[0;31m---------------------------------------------------------------------------\u001b[0m",
            "\u001b[0;31mNameError\u001b[0m                                 Traceback (most recent call last)",
            "Cell \u001b[0;32mIn [7], line 2\u001b[0m\n\u001b[1;32m      1\u001b[0m \u001b[39mfrom\u001b[39;00m \u001b[39mnltk\u001b[39;00m\u001b[39m.\u001b[39;00m\u001b[39mtokenize\u001b[39;00m \u001b[39mimport\u001b[39;00m wordpunct_tokenize\n\u001b[0;32m----> 2\u001b[0m word_tokenized_corpus \u001b[39m=\u001b[39m [wordpunct_tokenize(sent) \u001b[39mfor\u001b[39;00m sent \u001b[39min\u001b[39;00m \u001b[39mlist\u001b[39m(\u001b[39mset\u001b[39m(X_train[\u001b[39m'\u001b[39m\u001b[39mname_1\u001b[39m\u001b[39m'\u001b[39m]) \u001b[39m&\u001b[39m \u001b[39mset\u001b[39m(X_train[\u001b[39m'\u001b[39m\u001b[39mname_2\u001b[39m\u001b[39m'\u001b[39m]))]\n",
            "\u001b[0;31mNameError\u001b[0m: name 'X_train' is not defined"
          ]
        }
      ],
      "source": [
        "from nltk.tokenize import wordpunct_tokenize\n",
        "word_tokenized_corpus = [wordpunct_tokenize(sent) for sent in list(set(X_train['name_1']) & set(X_train['name_2']))]"
      ]
    },
    {
      "cell_type": "code",
      "execution_count": null,
      "metadata": {
        "colab": {
          "base_uri": "https://localhost:8080/",
          "height": 419
        },
        "id": "SHnNLqTAMitJ",
        "outputId": "5a32a98d-6980-4c85-b2ff-2f72d7258f8b"
      },
      "outputs": [
        {
          "data": {
            "text/html": [
              "\n",
              "  <div id=\"df-c8210f80-9433-4856-af23-58e691bc9b54\">\n",
              "    <div class=\"colab-df-container\">\n",
              "      <div>\n",
              "<style scoped>\n",
              "    .dataframe tbody tr th:only-of-type {\n",
              "        vertical-align: middle;\n",
              "    }\n",
              "\n",
              "    .dataframe tbody tr th {\n",
              "        vertical-align: top;\n",
              "    }\n",
              "\n",
              "    .dataframe thead th {\n",
              "        text-align: right;\n",
              "    }\n",
              "</style>\n",
              "<table border=\"1\" class=\"dataframe\">\n",
              "  <thead>\n",
              "    <tr style=\"text-align: right;\">\n",
              "      <th></th>\n",
              "      <th>name_1</th>\n",
              "      <th>name_2</th>\n",
              "    </tr>\n",
              "  </thead>\n",
              "  <tbody>\n",
              "    <tr>\n",
              "      <th>133032</th>\n",
              "      <td>indus pencil industries private ltd</td>\n",
              "      <td>suja shoei industries pvt ltd</td>\n",
              "    </tr>\n",
              "    <tr>\n",
              "      <th>162907</th>\n",
              "      <td>mac resolute services ltd</td>\n",
              "      <td>uma solar</td>\n",
              "    </tr>\n",
              "    <tr>\n",
              "      <th>19406</th>\n",
              "      <td>evonik india</td>\n",
              "      <td>fischer building materials india private ltd</td>\n",
              "    </tr>\n",
              "    <tr>\n",
              "      <th>333205</th>\n",
              "      <td>dongguan haocheng toys co ltd</td>\n",
              "      <td>dongguan mayor bean shoes material co ltd</td>\n",
              "    </tr>\n",
              "    <tr>\n",
              "      <th>460977</th>\n",
              "      <td>marav usa llc</td>\n",
              "      <td>ht cargo usa</td>\n",
              "    </tr>\n",
              "    <tr>\n",
              "      <th>...</th>\n",
              "      <td>...</td>\n",
              "      <td>...</td>\n",
              "    </tr>\n",
              "    <tr>\n",
              "      <th>13501</th>\n",
              "      <td>comagro sa</td>\n",
              "      <td>plasticos agricolas y geomembranas</td>\n",
              "    </tr>\n",
              "    <tr>\n",
              "      <th>130642</th>\n",
              "      <td>coto technology s de rl de cv</td>\n",
              "      <td>adhesives technology corp</td>\n",
              "    </tr>\n",
              "    <tr>\n",
              "      <th>372089</th>\n",
              "      <td>divetis mexico</td>\n",
              "      <td>altex products mexico s de rl de cv</td>\n",
              "    </tr>\n",
              "    <tr>\n",
              "      <th>408700</th>\n",
              "      <td>al chem corporation</td>\n",
              "      <td>irinotecan european chemical shanghai co ltd</td>\n",
              "    </tr>\n",
              "    <tr>\n",
              "      <th>289128</th>\n",
              "      <td>alp nishikawa co private ltd</td>\n",
              "      <td>captivate</td>\n",
              "    </tr>\n",
              "  </tbody>\n",
              "</table>\n",
              "<p>199127 rows × 2 columns</p>\n",
              "</div>\n",
              "      <button class=\"colab-df-convert\" onclick=\"convertToInteractive('df-c8210f80-9433-4856-af23-58e691bc9b54')\"\n",
              "              title=\"Convert this dataframe to an interactive table.\"\n",
              "              style=\"display:none;\">\n",
              "        \n",
              "  <svg xmlns=\"http://www.w3.org/2000/svg\" height=\"24px\"viewBox=\"0 0 24 24\"\n",
              "       width=\"24px\">\n",
              "    <path d=\"M0 0h24v24H0V0z\" fill=\"none\"/>\n",
              "    <path d=\"M18.56 5.44l.94 2.06.94-2.06 2.06-.94-2.06-.94-.94-2.06-.94 2.06-2.06.94zm-11 1L8.5 8.5l.94-2.06 2.06-.94-2.06-.94L8.5 2.5l-.94 2.06-2.06.94zm10 10l.94 2.06.94-2.06 2.06-.94-2.06-.94-.94-2.06-.94 2.06-2.06.94z\"/><path d=\"M17.41 7.96l-1.37-1.37c-.4-.4-.92-.59-1.43-.59-.52 0-1.04.2-1.43.59L10.3 9.45l-7.72 7.72c-.78.78-.78 2.05 0 2.83L4 21.41c.39.39.9.59 1.41.59.51 0 1.02-.2 1.41-.59l7.78-7.78 2.81-2.81c.8-.78.8-2.07 0-2.86zM5.41 20L4 18.59l7.72-7.72 1.47 1.35L5.41 20z\"/>\n",
              "  </svg>\n",
              "      </button>\n",
              "      \n",
              "  <style>\n",
              "    .colab-df-container {\n",
              "      display:flex;\n",
              "      flex-wrap:wrap;\n",
              "      gap: 12px;\n",
              "    }\n",
              "\n",
              "    .colab-df-convert {\n",
              "      background-color: #E8F0FE;\n",
              "      border: none;\n",
              "      border-radius: 50%;\n",
              "      cursor: pointer;\n",
              "      display: none;\n",
              "      fill: #1967D2;\n",
              "      height: 32px;\n",
              "      padding: 0 0 0 0;\n",
              "      width: 32px;\n",
              "    }\n",
              "\n",
              "    .colab-df-convert:hover {\n",
              "      background-color: #E2EBFA;\n",
              "      box-shadow: 0px 1px 2px rgba(60, 64, 67, 0.3), 0px 1px 3px 1px rgba(60, 64, 67, 0.15);\n",
              "      fill: #174EA6;\n",
              "    }\n",
              "\n",
              "    [theme=dark] .colab-df-convert {\n",
              "      background-color: #3B4455;\n",
              "      fill: #D2E3FC;\n",
              "    }\n",
              "\n",
              "    [theme=dark] .colab-df-convert:hover {\n",
              "      background-color: #434B5C;\n",
              "      box-shadow: 0px 1px 3px 1px rgba(0, 0, 0, 0.15);\n",
              "      filter: drop-shadow(0px 1px 2px rgba(0, 0, 0, 0.3));\n",
              "      fill: #FFFFFF;\n",
              "    }\n",
              "  </style>\n",
              "\n",
              "      <script>\n",
              "        const buttonEl =\n",
              "          document.querySelector('#df-c8210f80-9433-4856-af23-58e691bc9b54 button.colab-df-convert');\n",
              "        buttonEl.style.display =\n",
              "          google.colab.kernel.accessAllowed ? 'block' : 'none';\n",
              "\n",
              "        async function convertToInteractive(key) {\n",
              "          const element = document.querySelector('#df-c8210f80-9433-4856-af23-58e691bc9b54');\n",
              "          const dataTable =\n",
              "            await google.colab.kernel.invokeFunction('convertToInteractive',\n",
              "                                                     [key], {});\n",
              "          if (!dataTable) return;\n",
              "\n",
              "          const docLinkHtml = 'Like what you see? Visit the ' +\n",
              "            '<a target=\"_blank\" href=https://colab.research.google.com/notebooks/data_table.ipynb>data table notebook</a>'\n",
              "            + ' to learn more about interactive tables.';\n",
              "          element.innerHTML = '';\n",
              "          dataTable['output_type'] = 'display_data';\n",
              "          await google.colab.output.renderOutput(dataTable, element);\n",
              "          const docLink = document.createElement('div');\n",
              "          docLink.innerHTML = docLinkHtml;\n",
              "          element.appendChild(docLink);\n",
              "        }\n",
              "      </script>\n",
              "    </div>\n",
              "  </div>\n",
              "  "
            ],
            "text/plain": [
              "                                     name_1  \\\n",
              "133032  indus pencil industries private ltd   \n",
              "162907            mac resolute services ltd   \n",
              "19406                          evonik india   \n",
              "333205        dongguan haocheng toys co ltd   \n",
              "460977                        marav usa llc   \n",
              "...                                     ...   \n",
              "13501                            comagro sa   \n",
              "130642        coto technology s de rl de cv   \n",
              "372089                       divetis mexico   \n",
              "408700                  al chem corporation   \n",
              "289128         alp nishikawa co private ltd   \n",
              "\n",
              "                                              name_2  \n",
              "133032                 suja shoei industries pvt ltd  \n",
              "162907                                     uma solar  \n",
              "19406   fischer building materials india private ltd  \n",
              "333205     dongguan mayor bean shoes material co ltd  \n",
              "460977                                  ht cargo usa  \n",
              "...                                              ...  \n",
              "13501             plasticos agricolas y geomembranas  \n",
              "130642                     adhesives technology corp  \n",
              "372089           altex products mexico s de rl de cv  \n",
              "408700  irinotecan european chemical shanghai co ltd  \n",
              "289128                                     captivate  \n",
              "\n",
              "[199127 rows x 2 columns]"
            ]
          },
          "execution_count": 139,
          "metadata": {},
          "output_type": "execute_result"
        }
      ],
      "source": [
        "X_train"
      ]
    },
    {
      "cell_type": "code",
      "execution_count": null,
      "metadata": {
        "id": "8rEfxJXLGrnw"
      },
      "outputs": [],
      "source": [
        "word_tokenized_corpus"
      ]
    },
    {
      "cell_type": "code",
      "execution_count": null,
      "metadata": {
        "id": "SAK7435xX7VG"
      },
      "outputs": [],
      "source": [
        "from sklearn.metrics import recall_score"
      ]
    },
    {
      "cell_type": "code",
      "execution_count": null,
      "metadata": {
        "colab": {
          "base_uri": "https://localhost:8080/"
        },
        "id": "Mey7mG7gSMbL",
        "outputId": "0086c2f4-a353-4d4a-f91d-31445707b54c"
      },
      "outputs": [
        {
          "name": "stdout",
          "output_type": "stream",
          "text": [
            "0\n"
          ]
        }
      ],
      "source": [
        "for i in df.index:\n",
        "  print(i)\n",
        "  break"
      ]
    },
    {
      "cell_type": "code",
      "execution_count": null,
      "metadata": {
        "colab": {
          "base_uri": "https://localhost:8080/"
        },
        "id": "CIncJdYN1oP4",
        "outputId": "dec4c267-2cd9-4900-85a0-374a9bee963b"
      },
      "outputs": [
        {
          "name": "stdout",
          "output_type": "stream",
          "text": [
            "Python 3.7.15\n"
          ]
        }
      ],
      "source": [
        "!python --version\n"
      ]
    },
    {
      "cell_type": "code",
      "execution_count": null,
      "metadata": {
        "colab": {
          "base_uri": "https://localhost:8080/"
        },
        "id": "zSiSWDK06fJa",
        "outputId": "a9cb69e1-d5f7-40eb-8874-5b39d3f143c4"
      },
      "outputs": [
        {
          "name": "stdout",
          "output_type": "stream",
          "text": [
            "133822.56\n"
          ]
        }
      ],
      "source": [
        "deposit = 100000\n",
        "rate = .06\n",
        "deposit_term = 5\n",
        "while (deposit_term != 0):\n",
        "    deposit *= (1 + rate)\n",
        "    deposit_term -= 1\n",
        "deposit = round(deposit, 2)\n",
        "print(deposit)"
      ]
    },
    {
      "cell_type": "code",
      "execution_count": null,
      "metadata": {
        "colab": {
          "base_uri": "https://localhost:8080/"
        },
        "id": "sSgkI_uL9dfJ",
        "outputId": "28ce4118-0475-4878-d0eb-abd0d4d67791"
      },
      "outputs": [
        {
          "name": "stdout",
          "output_type": "stream",
          "text": [
            "133822.56\n"
          ]
        }
      ],
      "source": [
        "\n",
        "deposit = 100000 # Переменной deposit присваивается значение 100000\n",
        "rate = 0.06 # Переменной rate присваивается значение 0.06\n",
        "deposit_term = 5 # Переменной deposit_term присваивается значение 5  \n",
        "  \n",
        "for i in range(0,deposit_term): # Цикл, в котором количество итераций соответствует deposit_term\n",
        "    deposit = deposit + deposit * rate # Начисленные за год проценты добавляются к сумме вклада\n",
        "deposit = round(deposit,2) # Округление результата до копеек\n",
        "print(deposit)"
      ]
    },
    {
      "cell_type": "code",
      "execution_count": null,
      "metadata": {
        "id": "T7A-5ELk9eQS"
      },
      "outputs": [],
      "source": [
        "def solve(a,b):\n",
        "    if (b == 0 and a != 0):\n",
        "        return \"Any\"\n",
        "    elif (b != 0 and a == 0):\n",
        "        return \"Error\"\n",
        "    else:\n",
        "        return (b/a)"
      ]
    },
    {
      "cell_type": "code",
      "execution_count": null,
      "metadata": {
        "colab": {
          "base_uri": "https://localhost:8080/",
          "height": 35
        },
        "id": "pTtBvmriCIFW",
        "outputId": "50f57c0b-865b-4ae2-af96-2db9ed9bca7b"
      },
      "outputs": [
        {
          "data": {
            "application/vnd.google.colaboratory.intrinsic+json": {
              "type": "string"
            },
            "text/plain": [
              "'Any'"
            ]
          },
          "execution_count": 10,
          "metadata": {},
          "output_type": "execute_result"
        }
      ],
      "source": [
        "solve(10, 0)"
      ]
    },
    {
      "cell_type": "code",
      "execution_count": null,
      "metadata": {
        "id": "EnLaEp-KXJbi"
      },
      "outputs": [],
      "source": [
        "def make_predict(ft_model, df):\n",
        "  preds = []\n",
        "  for i in df.index:\n",
        "    proba = ft_model.wv.similarity(df['name_1'][i], df['name_2'][i])\n",
        "    preds.append(proba)\n",
        "    # if proba >= trash:\n",
        "    #   preds.append(1)\n",
        "    # else:\n",
        "    #   preds.append(0)\n",
        "  return preds\n",
        "\n",
        "  "
      ]
    },
    {
      "cell_type": "code",
      "execution_count": null,
      "metadata": {
        "id": "Ub8IJztQRt5E"
      },
      "outputs": [],
      "source": []
    },
    {
      "cell_type": "code",
      "execution_count": null,
      "metadata": {
        "id": "m8i-2tKNZAIr"
      },
      "outputs": [],
      "source": [
        "def find_min_trash(ft_model, df):\n",
        "  trash = 12\n",
        "  for i,j in enumerate(df[df['is_duplicate'] == 1]['name_1']):\n",
        "    proba = ft_model.wv.similarity(df['name_1'][i], df['name_2'][i])\n",
        "  if proba < trash:\n",
        "    trash = proba\n",
        "  return trash"
      ]
    },
    {
      "cell_type": "code",
      "execution_count": null,
      "metadata": {
        "id": "AiwH0YshHHBU"
      },
      "outputs": [],
      "source": []
    },
    {
      "cell_type": "code",
      "execution_count": null,
      "metadata": {
        "id": "XqS1NRlRPUq4"
      },
      "outputs": [],
      "source": [
        "def learning(model):\n",
        "  embedding_size = 10\n",
        "  window_size = 7\n",
        "  min_word = 1\n",
        "  down_sampling = 1e-2\n",
        "  max_recall = 0\n",
        "  for i in range(1, 11):\n",
        "    model.train(word_tokenized_corpus, total_examples=model.corpus_count, epochs=i)\n",
        "    if (max_recall > recall_score(df['is_duplicate'], make_predict(model,df, find_min_trash(model, df)))):\n",
        "      print(recall_score(df['is_duplicate'], make_predict(model,df, find_min_trash(model, df))), i)\n",
        "      max_reall = recall_score(df['is_duplicate'], make_predict(model,df, find_min_trash(model, df)))\n",
        "      model.save('/content/drive/MyDrive/best_model.fasttext')\n",
        "    print()\n",
        "    \n",
        "    \n",
        "    "
      ]
    },
    {
      "cell_type": "code",
      "execution_count": null,
      "metadata": {
        "colab": {
          "base_uri": "https://localhost:8080/"
        },
        "id": "z68Y-jvUPjDx",
        "outputId": "c57ed88a-e17b-4fcd-adb1-ccb859143eb7"
      },
      "outputs": [
        {
          "name": "stdout",
          "output_type": "stream",
          "text": [
            "1\n",
            "2\n",
            "3\n",
            "4\n",
            "5\n",
            "6\n",
            "7\n",
            "8\n",
            "9\n",
            "10\n"
          ]
        }
      ],
      "source": [
        "learning()"
      ]
    },
    {
      "cell_type": "code",
      "execution_count": null,
      "metadata": {
        "id": "a9kb864OM_MV"
      },
      "outputs": [],
      "source": [
        "model = FastText(size=100, window=5, min_count=1, workers=4, sg=1)\n",
        "model.build_vocab(word_tokenized_corpus)"
      ]
    },
    {
      "cell_type": "code",
      "execution_count": null,
      "metadata": {
        "colab": {
          "base_uri": "https://localhost:8080/"
        },
        "id": "8-vImHXLd2hj",
        "outputId": "f0362123-0470-4819-bb5b-d8d35ff2f6df"
      },
      "outputs": [
        {
          "name": "stderr",
          "output_type": "stream",
          "text": [
            "/usr/local/lib/python3.7/dist-packages/ipykernel_launcher.py:1: DeprecationWarning: Call to deprecated `iter` (Attribute will be removed in 4.0.0, use self.epochs instead).\n",
            "  \"\"\"Entry point for launching an IPython kernel.\n"
          ]
        },
        {
          "data": {
            "text/plain": [
              "5"
            ]
          },
          "execution_count": 210,
          "metadata": {},
          "output_type": "execute_result"
        }
      ],
      "source": [
        "model.iter"
      ]
    },
    {
      "cell_type": "code",
      "execution_count": null,
      "metadata": {
        "colab": {
          "base_uri": "https://localhost:8080/",
          "height": 1000
        },
        "id": "KYW4C3s-NyzM",
        "outputId": "930618bc-0f00-4054-d269-348c221fd3fb"
      },
      "outputs": [
        {
          "name": "stderr",
          "output_type": "stream",
          "text": [
            "/usr/local/lib/python3.7/dist-packages/ipykernel_launcher.py:1: DeprecationWarning: Call to deprecated `iter` (Attribute will be removed in 4.0.0, use self.epochs instead).\n",
            "  \"\"\"Entry point for launching an IPython kernel.\n",
            "WARNING:gensim.models.base_any2vec:Effective 'alpha' higher than previous training cycles\n",
            "Exception in thread Thread-278:\n",
            "Traceback (most recent call last):\n",
            "  File \"/usr/lib/python3.7/threading.py\", line 926, in _bootstrap_inner\n",
            "    self.run()\n",
            "  File \"/usr/lib/python3.7/threading.py\", line 870, in run\n",
            "    self._target(*self._args, **self._kwargs)\n",
            "  File \"/usr/local/lib/python3.7/dist-packages/gensim/models/base_any2vec.py\", line 211, in _worker_loop\n",
            "    tally, raw_tally = self._do_train_job(data_iterable, job_parameters, thread_private_mem)\n",
            "  File \"/usr/local/lib/python3.7/dist-packages/gensim/models/fasttext.py\", line 593, in _do_train_job\n",
            "    tally += train_batch_sg(self, sentences, alpha, work, neu1)\n",
            "  File \"gensim/models/fasttext_inner.pyx\", line 322, in gensim.models.fasttext_inner.train_batch_sg\n",
            "TypeError: 'NoneType' object is not subscriptable\n",
            "\n",
            "Exception in thread Thread-277:\n",
            "Traceback (most recent call last):\n",
            "  File \"/usr/lib/python3.7/threading.py\", line 926, in _bootstrap_inner\n",
            "    self.run()\n",
            "  File \"/usr/lib/python3.7/threading.py\", line 870, in run\n",
            "    self._target(*self._args, **self._kwargs)\n",
            "  File \"/usr/local/lib/python3.7/dist-packages/gensim/models/base_any2vec.py\", line 211, in _worker_loop\n",
            "    tally, raw_tally = self._do_train_job(data_iterable, job_parameters, thread_private_mem)\n",
            "  File \"/usr/local/lib/python3.7/dist-packages/gensim/models/fasttext.py\", line 593, in _do_train_job\n",
            "    tally += train_batch_sg(self, sentences, alpha, work, neu1)\n",
            "  File \"gensim/models/fasttext_inner.pyx\", line 322, in gensim.models.fasttext_inner.train_batch_sg\n",
            "TypeError: 'NoneType' object is not subscriptable\n",
            "\n",
            "Exception in thread Thread-280:\n",
            "Traceback (most recent call last):\n",
            "  File \"/usr/lib/python3.7/threading.py\", line 926, in _bootstrap_inner\n",
            "    self.run()\n",
            "  File \"/usr/lib/python3.7/threading.py\", line 870, in run\n",
            "    self._target(*self._args, **self._kwargs)\n",
            "  File \"/usr/local/lib/python3.7/dist-packages/gensim/models/base_any2vec.py\", line 211, in _worker_loop\n",
            "    tally, raw_tally = self._do_train_job(data_iterable, job_parameters, thread_private_mem)\n",
            "  File \"/usr/local/lib/python3.7/dist-packages/gensim/models/fasttext.py\", line 593, in _do_train_job\n",
            "    tally += train_batch_sg(self, sentences, alpha, work, neu1)\n",
            "  File \"gensim/models/fasttext_inner.pyx\", line 322, in gensim.models.fasttext_inner.train_batch_sg\n",
            "TypeError: 'NoneType' object is not subscriptable\n",
            "\n",
            "Exception in thread Thread-279:\n",
            "Traceback (most recent call last):\n",
            "  File \"/usr/lib/python3.7/threading.py\", line 926, in _bootstrap_inner\n",
            "    self.run()\n",
            "  File \"/usr/lib/python3.7/threading.py\", line 870, in run\n",
            "    self._target(*self._args, **self._kwargs)\n",
            "  File \"/usr/local/lib/python3.7/dist-packages/gensim/models/base_any2vec.py\", line 211, in _worker_loop\n",
            "    tally, raw_tally = self._do_train_job(data_iterable, job_parameters, thread_private_mem)\n",
            "  File \"/usr/local/lib/python3.7/dist-packages/gensim/models/fasttext.py\", line 593, in _do_train_job\n",
            "    tally += train_batch_sg(self, sentences, alpha, work, neu1)\n",
            "  File \"gensim/models/fasttext_inner.pyx\", line 322, in gensim.models.fasttext_inner.train_batch_sg\n",
            "TypeError: 'NoneType' object is not subscriptable\n",
            "\n"
          ]
        },
        {
          "ename": "KeyboardInterrupt",
          "evalue": "ignored",
          "output_type": "error",
          "traceback": [
            "\u001b[0;31m---------------------------------------------------------------------------\u001b[0m",
            "\u001b[0;31mKeyboardInterrupt\u001b[0m                         Traceback (most recent call last)",
            "\u001b[0;32m<ipython-input-233-e70479321176>\u001b[0m in \u001b[0;36m<module>\u001b[0;34m\u001b[0m\n\u001b[0;32m----> 1\u001b[0;31m \u001b[0mmodel\u001b[0m\u001b[0;34m.\u001b[0m\u001b[0mtrain\u001b[0m\u001b[0;34m(\u001b[0m\u001b[0mword_tokenized_corpus\u001b[0m\u001b[0;34m,\u001b[0m \u001b[0mtotal_examples\u001b[0m\u001b[0;34m=\u001b[0m\u001b[0mmodel\u001b[0m\u001b[0;34m.\u001b[0m\u001b[0mcorpus_count\u001b[0m\u001b[0;34m,\u001b[0m \u001b[0mepochs\u001b[0m\u001b[0;34m=\u001b[0m\u001b[0mmodel\u001b[0m\u001b[0;34m.\u001b[0m\u001b[0miter\u001b[0m\u001b[0;34m)\u001b[0m\u001b[0;34m\u001b[0m\u001b[0;34m\u001b[0m\u001b[0m\n\u001b[0m",
            "\u001b[0;32m/usr/local/lib/python3.7/dist-packages/gensim/models/fasttext.py\u001b[0m in \u001b[0;36mtrain\u001b[0;34m(self, sentences, corpus_file, total_examples, total_words, epochs, start_alpha, end_alpha, word_count, queue_factor, report_delay, callbacks, **kwargs)\u001b[0m\n\u001b[1;32m    664\u001b[0m             \u001b[0msentences\u001b[0m\u001b[0;34m=\u001b[0m\u001b[0msentences\u001b[0m\u001b[0;34m,\u001b[0m \u001b[0mcorpus_file\u001b[0m\u001b[0;34m=\u001b[0m\u001b[0mcorpus_file\u001b[0m\u001b[0;34m,\u001b[0m \u001b[0mtotal_examples\u001b[0m\u001b[0;34m=\u001b[0m\u001b[0mtotal_examples\u001b[0m\u001b[0;34m,\u001b[0m \u001b[0mtotal_words\u001b[0m\u001b[0;34m=\u001b[0m\u001b[0mtotal_words\u001b[0m\u001b[0;34m,\u001b[0m\u001b[0;34m\u001b[0m\u001b[0;34m\u001b[0m\u001b[0m\n\u001b[1;32m    665\u001b[0m             \u001b[0mepochs\u001b[0m\u001b[0;34m=\u001b[0m\u001b[0mepochs\u001b[0m\u001b[0;34m,\u001b[0m \u001b[0mstart_alpha\u001b[0m\u001b[0;34m=\u001b[0m\u001b[0mstart_alpha\u001b[0m\u001b[0;34m,\u001b[0m \u001b[0mend_alpha\u001b[0m\u001b[0;34m=\u001b[0m\u001b[0mend_alpha\u001b[0m\u001b[0;34m,\u001b[0m \u001b[0mword_count\u001b[0m\u001b[0;34m=\u001b[0m\u001b[0mword_count\u001b[0m\u001b[0;34m,\u001b[0m\u001b[0;34m\u001b[0m\u001b[0;34m\u001b[0m\u001b[0m\n\u001b[0;32m--> 666\u001b[0;31m             queue_factor=queue_factor, report_delay=report_delay, callbacks=callbacks)\n\u001b[0m\u001b[1;32m    667\u001b[0m         \u001b[0mself\u001b[0m\u001b[0;34m.\u001b[0m\u001b[0mtrainables\u001b[0m\u001b[0;34m.\u001b[0m\u001b[0mget_vocab_word_vecs\u001b[0m\u001b[0;34m(\u001b[0m\u001b[0mself\u001b[0m\u001b[0;34m.\u001b[0m\u001b[0mwv\u001b[0m\u001b[0;34m)\u001b[0m\u001b[0;34m\u001b[0m\u001b[0;34m\u001b[0m\u001b[0m\n\u001b[1;32m    668\u001b[0m \u001b[0;34m\u001b[0m\u001b[0m\n",
            "\u001b[0;32m/usr/local/lib/python3.7/dist-packages/gensim/models/base_any2vec.py\u001b[0m in \u001b[0;36mtrain\u001b[0;34m(self, sentences, corpus_file, total_examples, total_words, epochs, start_alpha, end_alpha, word_count, queue_factor, report_delay, compute_loss, callbacks, **kwargs)\u001b[0m\n\u001b[1;32m   1079\u001b[0m             \u001b[0mtotal_words\u001b[0m\u001b[0;34m=\u001b[0m\u001b[0mtotal_words\u001b[0m\u001b[0;34m,\u001b[0m \u001b[0mepochs\u001b[0m\u001b[0;34m=\u001b[0m\u001b[0mepochs\u001b[0m\u001b[0;34m,\u001b[0m \u001b[0mstart_alpha\u001b[0m\u001b[0;34m=\u001b[0m\u001b[0mstart_alpha\u001b[0m\u001b[0;34m,\u001b[0m \u001b[0mend_alpha\u001b[0m\u001b[0;34m=\u001b[0m\u001b[0mend_alpha\u001b[0m\u001b[0;34m,\u001b[0m \u001b[0mword_count\u001b[0m\u001b[0;34m=\u001b[0m\u001b[0mword_count\u001b[0m\u001b[0;34m,\u001b[0m\u001b[0;34m\u001b[0m\u001b[0;34m\u001b[0m\u001b[0m\n\u001b[1;32m   1080\u001b[0m             \u001b[0mqueue_factor\u001b[0m\u001b[0;34m=\u001b[0m\u001b[0mqueue_factor\u001b[0m\u001b[0;34m,\u001b[0m \u001b[0mreport_delay\u001b[0m\u001b[0;34m=\u001b[0m\u001b[0mreport_delay\u001b[0m\u001b[0;34m,\u001b[0m \u001b[0mcompute_loss\u001b[0m\u001b[0;34m=\u001b[0m\u001b[0mcompute_loss\u001b[0m\u001b[0;34m,\u001b[0m \u001b[0mcallbacks\u001b[0m\u001b[0;34m=\u001b[0m\u001b[0mcallbacks\u001b[0m\u001b[0;34m,\u001b[0m\u001b[0;34m\u001b[0m\u001b[0;34m\u001b[0m\u001b[0m\n\u001b[0;32m-> 1081\u001b[0;31m             **kwargs)\n\u001b[0m\u001b[1;32m   1082\u001b[0m \u001b[0;34m\u001b[0m\u001b[0m\n\u001b[1;32m   1083\u001b[0m     \u001b[0;32mdef\u001b[0m \u001b[0m_get_job_params\u001b[0m\u001b[0;34m(\u001b[0m\u001b[0mself\u001b[0m\u001b[0;34m,\u001b[0m \u001b[0mcur_epoch\u001b[0m\u001b[0;34m)\u001b[0m\u001b[0;34m:\u001b[0m\u001b[0;34m\u001b[0m\u001b[0;34m\u001b[0m\u001b[0m\n",
            "\u001b[0;32m/usr/local/lib/python3.7/dist-packages/gensim/models/base_any2vec.py\u001b[0m in \u001b[0;36mtrain\u001b[0;34m(self, data_iterable, corpus_file, epochs, total_examples, total_words, queue_factor, report_delay, callbacks, **kwargs)\u001b[0m\n\u001b[1;32m    551\u001b[0m                 trained_word_count_epoch, raw_word_count_epoch, job_tally_epoch = self._train_epoch(\n\u001b[1;32m    552\u001b[0m                     \u001b[0mdata_iterable\u001b[0m\u001b[0;34m,\u001b[0m \u001b[0mcur_epoch\u001b[0m\u001b[0;34m=\u001b[0m\u001b[0mcur_epoch\u001b[0m\u001b[0;34m,\u001b[0m \u001b[0mtotal_examples\u001b[0m\u001b[0;34m=\u001b[0m\u001b[0mtotal_examples\u001b[0m\u001b[0;34m,\u001b[0m\u001b[0;34m\u001b[0m\u001b[0;34m\u001b[0m\u001b[0m\n\u001b[0;32m--> 553\u001b[0;31m                     total_words=total_words, queue_factor=queue_factor, report_delay=report_delay)\n\u001b[0m\u001b[1;32m    554\u001b[0m             \u001b[0;32melse\u001b[0m\u001b[0;34m:\u001b[0m\u001b[0;34m\u001b[0m\u001b[0;34m\u001b[0m\u001b[0m\n\u001b[1;32m    555\u001b[0m                 trained_word_count_epoch, raw_word_count_epoch, job_tally_epoch = self._train_epoch_corpusfile(\n",
            "\u001b[0;32m/usr/local/lib/python3.7/dist-packages/gensim/models/base_any2vec.py\u001b[0m in \u001b[0;36m_train_epoch\u001b[0;34m(self, data_iterable, cur_epoch, total_examples, total_words, queue_factor, report_delay)\u001b[0m\n\u001b[1;32m    487\u001b[0m         trained_word_count, raw_word_count, job_tally = self._log_epoch_progress(\n\u001b[1;32m    488\u001b[0m             \u001b[0mprogress_queue\u001b[0m\u001b[0;34m,\u001b[0m \u001b[0mjob_queue\u001b[0m\u001b[0;34m,\u001b[0m \u001b[0mcur_epoch\u001b[0m\u001b[0;34m=\u001b[0m\u001b[0mcur_epoch\u001b[0m\u001b[0;34m,\u001b[0m \u001b[0mtotal_examples\u001b[0m\u001b[0;34m=\u001b[0m\u001b[0mtotal_examples\u001b[0m\u001b[0;34m,\u001b[0m \u001b[0mtotal_words\u001b[0m\u001b[0;34m=\u001b[0m\u001b[0mtotal_words\u001b[0m\u001b[0;34m,\u001b[0m\u001b[0;34m\u001b[0m\u001b[0;34m\u001b[0m\u001b[0m\n\u001b[0;32m--> 489\u001b[0;31m             report_delay=report_delay, is_corpus_file_mode=False)\n\u001b[0m\u001b[1;32m    490\u001b[0m \u001b[0;34m\u001b[0m\u001b[0m\n\u001b[1;32m    491\u001b[0m         \u001b[0;32mreturn\u001b[0m \u001b[0mtrained_word_count\u001b[0m\u001b[0;34m,\u001b[0m \u001b[0mraw_word_count\u001b[0m\u001b[0;34m,\u001b[0m \u001b[0mjob_tally\u001b[0m\u001b[0;34m\u001b[0m\u001b[0;34m\u001b[0m\u001b[0m\n",
            "\u001b[0;32m/usr/local/lib/python3.7/dist-packages/gensim/models/base_any2vec.py\u001b[0m in \u001b[0;36m_log_epoch_progress\u001b[0;34m(self, progress_queue, job_queue, cur_epoch, total_examples, total_words, report_delay, is_corpus_file_mode)\u001b[0m\n\u001b[1;32m    344\u001b[0m \u001b[0;34m\u001b[0m\u001b[0m\n\u001b[1;32m    345\u001b[0m         \u001b[0;32mwhile\u001b[0m \u001b[0munfinished_worker_count\u001b[0m \u001b[0;34m>\u001b[0m \u001b[0;36m0\u001b[0m\u001b[0;34m:\u001b[0m\u001b[0;34m\u001b[0m\u001b[0;34m\u001b[0m\u001b[0m\n\u001b[0;32m--> 346\u001b[0;31m             \u001b[0mreport\u001b[0m \u001b[0;34m=\u001b[0m \u001b[0mprogress_queue\u001b[0m\u001b[0;34m.\u001b[0m\u001b[0mget\u001b[0m\u001b[0;34m(\u001b[0m\u001b[0;34m)\u001b[0m  \u001b[0;31m# blocks if workers too slow\u001b[0m\u001b[0;34m\u001b[0m\u001b[0;34m\u001b[0m\u001b[0m\n\u001b[0m\u001b[1;32m    347\u001b[0m             \u001b[0;32mif\u001b[0m \u001b[0mreport\u001b[0m \u001b[0;32mis\u001b[0m \u001b[0;32mNone\u001b[0m\u001b[0;34m:\u001b[0m  \u001b[0;31m# a thread reporting that it finished\u001b[0m\u001b[0;34m\u001b[0m\u001b[0;34m\u001b[0m\u001b[0m\n\u001b[1;32m    348\u001b[0m                 \u001b[0munfinished_worker_count\u001b[0m \u001b[0;34m-=\u001b[0m \u001b[0;36m1\u001b[0m\u001b[0;34m\u001b[0m\u001b[0;34m\u001b[0m\u001b[0m\n",
            "\u001b[0;32m/usr/lib/python3.7/queue.py\u001b[0m in \u001b[0;36mget\u001b[0;34m(self, block, timeout)\u001b[0m\n\u001b[1;32m    168\u001b[0m             \u001b[0;32melif\u001b[0m \u001b[0mtimeout\u001b[0m \u001b[0;32mis\u001b[0m \u001b[0;32mNone\u001b[0m\u001b[0;34m:\u001b[0m\u001b[0;34m\u001b[0m\u001b[0;34m\u001b[0m\u001b[0m\n\u001b[1;32m    169\u001b[0m                 \u001b[0;32mwhile\u001b[0m \u001b[0;32mnot\u001b[0m \u001b[0mself\u001b[0m\u001b[0;34m.\u001b[0m\u001b[0m_qsize\u001b[0m\u001b[0;34m(\u001b[0m\u001b[0;34m)\u001b[0m\u001b[0;34m:\u001b[0m\u001b[0;34m\u001b[0m\u001b[0;34m\u001b[0m\u001b[0m\n\u001b[0;32m--> 170\u001b[0;31m                     \u001b[0mself\u001b[0m\u001b[0;34m.\u001b[0m\u001b[0mnot_empty\u001b[0m\u001b[0;34m.\u001b[0m\u001b[0mwait\u001b[0m\u001b[0;34m(\u001b[0m\u001b[0;34m)\u001b[0m\u001b[0;34m\u001b[0m\u001b[0;34m\u001b[0m\u001b[0m\n\u001b[0m\u001b[1;32m    171\u001b[0m             \u001b[0;32melif\u001b[0m \u001b[0mtimeout\u001b[0m \u001b[0;34m<\u001b[0m \u001b[0;36m0\u001b[0m\u001b[0;34m:\u001b[0m\u001b[0;34m\u001b[0m\u001b[0;34m\u001b[0m\u001b[0m\n\u001b[1;32m    172\u001b[0m                 \u001b[0;32mraise\u001b[0m \u001b[0mValueError\u001b[0m\u001b[0;34m(\u001b[0m\u001b[0;34m\"'timeout' must be a non-negative number\"\u001b[0m\u001b[0;34m)\u001b[0m\u001b[0;34m\u001b[0m\u001b[0;34m\u001b[0m\u001b[0m\n",
            "\u001b[0;32m/usr/lib/python3.7/threading.py\u001b[0m in \u001b[0;36mwait\u001b[0;34m(self, timeout)\u001b[0m\n\u001b[1;32m    294\u001b[0m         \u001b[0;32mtry\u001b[0m\u001b[0;34m:\u001b[0m    \u001b[0;31m# restore state no matter what (e.g., KeyboardInterrupt)\u001b[0m\u001b[0;34m\u001b[0m\u001b[0;34m\u001b[0m\u001b[0m\n\u001b[1;32m    295\u001b[0m             \u001b[0;32mif\u001b[0m \u001b[0mtimeout\u001b[0m \u001b[0;32mis\u001b[0m \u001b[0;32mNone\u001b[0m\u001b[0;34m:\u001b[0m\u001b[0;34m\u001b[0m\u001b[0;34m\u001b[0m\u001b[0m\n\u001b[0;32m--> 296\u001b[0;31m                 \u001b[0mwaiter\u001b[0m\u001b[0;34m.\u001b[0m\u001b[0macquire\u001b[0m\u001b[0;34m(\u001b[0m\u001b[0;34m)\u001b[0m\u001b[0;34m\u001b[0m\u001b[0;34m\u001b[0m\u001b[0m\n\u001b[0m\u001b[1;32m    297\u001b[0m                 \u001b[0mgotit\u001b[0m \u001b[0;34m=\u001b[0m \u001b[0;32mTrue\u001b[0m\u001b[0;34m\u001b[0m\u001b[0;34m\u001b[0m\u001b[0m\n\u001b[1;32m    298\u001b[0m             \u001b[0;32melse\u001b[0m\u001b[0;34m:\u001b[0m\u001b[0;34m\u001b[0m\u001b[0;34m\u001b[0m\u001b[0m\n",
            "\u001b[0;31mKeyboardInterrupt\u001b[0m: "
          ]
        }
      ],
      "source": [
        "model.train(word_tokenized_corpus, total_examples=model.corpus_count, epochs=model.iter)"
      ]
    },
    {
      "cell_type": "code",
      "execution_count": null,
      "metadata": {
        "colab": {
          "base_uri": "https://localhost:8080/"
        },
        "id": "FAeIda9PRvB1",
        "outputId": "56b97051-9cf9-4669-9eba-705d7a2f517a"
      },
      "outputs": [
        {
          "data": {
            "text/plain": [
              "(array([123992, 123993, 123994, 123995]),)"
            ]
          },
          "execution_count": 200,
          "metadata": {},
          "output_type": "execute_result"
        }
      ],
      "source": [
        "import numpy as np\n",
        "from sklearn.metrics import precision_recall_curve\n",
        "precision, recall, thresholds = precision_recall_curve(y_val, make_predict(model, X_val))\n",
        "np.where(precision > 0.80)"
      ]
    },
    {
      "cell_type": "code",
      "execution_count": null,
      "metadata": {
        "colab": {
          "base_uri": "https://localhost:8080/"
        },
        "id": "9Uo_7SuqUuTv",
        "outputId": "2e59edb7-9490-4d2f-b70a-222d268e10c0"
      },
      "outputs": [
        {
          "data": {
            "text/plain": [
              "(array([0.00738268, 0.007376  , 0.00737605, ..., 0.82608696, 1.        ,\n",
              "        1.        ]),\n",
              " array([1.        , 0.99908842, 0.99908842, ..., 0.01731996, 0.00182315,\n",
              "        0.        ]),\n",
              " array([0.8575537 , 0.8576203 , 0.8577053 , ..., 0.99999994, 1.        ,\n",
              "        1.0000001 ], dtype=float32))"
            ]
          },
          "execution_count": 201,
          "metadata": {},
          "output_type": "execute_result"
        }
      ],
      "source": [
        "precision, recall, thresholds"
      ]
    },
    {
      "cell_type": "code",
      "execution_count": null,
      "metadata": {
        "id": "ntLdiWL8c7SR"
      },
      "outputs": [],
      "source": [
        "def make_predict_class(ft_model, df):\n",
        "  preds = []\n",
        "  for i in df.index:\n",
        "    proba = ft_model.wv.similarity(df['name_1'][i], df['name_2'][i])\n",
        "    if proba >= 0.99999990:\n",
        "      preds.append(1)\n",
        "    else:\n",
        "      preds.append(0)\n",
        "  return preds"
      ]
    },
    {
      "cell_type": "code",
      "execution_count": null,
      "metadata": {
        "id": "8Ax0Xy1efo07"
      },
      "outputs": [],
      "source": [
        "preds = make_predict_class(model,X_val)"
      ]
    },
    {
      "cell_type": "code",
      "execution_count": null,
      "metadata": {
        "colab": {
          "base_uri": "https://localhost:8080/"
        },
        "id": "ozUHxKLTc2bK",
        "outputId": "6dff2bca-9b95-436c-b124-c874d82054a4"
      },
      "outputs": [
        {
          "data": {
            "text/plain": [
              "0.020966271649954422"
            ]
          },
          "execution_count": 228,
          "metadata": {},
          "output_type": "execute_result"
        }
      ],
      "source": [
        "recall_score(y_val, preds)"
      ]
    },
    {
      "cell_type": "code",
      "execution_count": null,
      "metadata": {
        "colab": {
          "base_uri": "https://localhost:8080/"
        },
        "id": "MPmZuPxbeUX2",
        "outputId": "e934da7b-a0e3-4eaf-be8f-899cdfbd85fa"
      },
      "outputs": [
        {
          "data": {
            "text/plain": [
              "0.8214285714285714"
            ]
          },
          "execution_count": 229,
          "metadata": {},
          "output_type": "execute_result"
        }
      ],
      "source": [
        "precision_score(y_val, preds)"
      ]
    },
    {
      "cell_type": "code",
      "execution_count": null,
      "metadata": {
        "colab": {
          "base_uri": "https://localhost:8080/"
        },
        "id": "dW_VrsWJe1Z6",
        "outputId": "43fabb08-692c-4449-97c2-17ef0f59f73c"
      },
      "outputs": [
        {
          "data": {
            "text/plain": [
              "0.04088888888888889"
            ]
          },
          "execution_count": 230,
          "metadata": {},
          "output_type": "execute_result"
        }
      ],
      "source": [
        "f1_score(y_val, preds)"
      ]
    },
    {
      "cell_type": "code",
      "execution_count": null,
      "metadata": {
        "colab": {
          "base_uri": "https://localhost:8080/"
        },
        "id": "WXbmUd2-bHVE",
        "outputId": "4b23acfc-1aa2-430e-f436-dd50257ffc6e"
      },
      "outputs": [
        {
          "data": {
            "text/plain": [
              "0.99999994"
            ]
          },
          "execution_count": 203,
          "metadata": {},
          "output_type": "execute_result"
        }
      ],
      "source": [
        "thresholds[123992]"
      ]
    },
    {
      "cell_type": "code",
      "execution_count": null,
      "metadata": {
        "id": "y2RoSx8XRdy7"
      },
      "outputs": [],
      "source": [
        "trash = 12\n",
        "for i,j in enumerate(df[df['is_duplicate']==1]['name_1']):\n",
        "  # proba = ft_model.wv.similarity(df['name_1'][i], df['name_2'][i])\n",
        "  proba = model.wv.similarity(df['name_1'][i], df['name_2'][i])\n",
        "  print(df['name_1'][i], df['name_2'][i],proba)\n",
        "  if proba < trash:\n",
        "    trash = proba\n",
        "    print(trash)"
      ]
    },
    {
      "cell_type": "markdown",
      "metadata": {
        "id": "Rv-1ZkC4jBJf"
      },
      "source": [
        "# Классификатор"
      ]
    },
    {
      "cell_type": "code",
      "execution_count": null,
      "metadata": {
        "colab": {
          "base_uri": "https://localhost:8080/"
        },
        "id": "UnZ75-2X2an7",
        "outputId": "4a333da7-6d8d-4a55-c511-f484a006f998"
      },
      "outputs": [
        {
          "name": "stdout",
          "output_type": "stream",
          "text": [
            "Looking in indexes: https://pypi.org/simple, https://us-python.pkg.dev/colab-wheels/public/simple/\n",
            "Collecting fasttext==0.9.2\n",
            "  Downloading fasttext-0.9.2.tar.gz (68 kB)\n",
            "\u001b[K     |████████████████████████████████| 68 kB 6.5 MB/s \n",
            "\u001b[?25hCollecting pybind11>=2.2\n",
            "  Using cached pybind11-2.10.0-py3-none-any.whl (213 kB)\n",
            "Requirement already satisfied: setuptools>=0.7.0 in /usr/local/lib/python3.7/dist-packages (from fasttext==0.9.2) (57.4.0)\n",
            "Requirement already satisfied: numpy in /usr/local/lib/python3.7/dist-packages (from fasttext==0.9.2) (1.21.6)\n",
            "Building wheels for collected packages: fasttext\n",
            "  Building wheel for fasttext (setup.py) ... \u001b[?25l\u001b[?25hdone\n",
            "  Created wheel for fasttext: filename=fasttext-0.9.2-cp37-cp37m-linux_x86_64.whl size=3164775 sha256=4229bdc88d939338411f9b0a04b71f558797b26225a8a52651b8dea9ba29a297\n",
            "  Stored in directory: /root/.cache/pip/wheels/4e/ca/bf/b020d2be95f7641801a6597a29c8f4f19e38f9c02a345bab9b\n",
            "Successfully built fasttext\n",
            "Installing collected packages: pybind11, fasttext\n",
            "Successfully installed fasttext-0.9.2 pybind11-2.10.0\n"
          ]
        }
      ],
      "source": [
        "!pip install fasttext==0.9.2"
      ]
    },
    {
      "cell_type": "code",
      "execution_count": null,
      "metadata": {
        "id": "pdIMul8WRBRt"
      },
      "outputs": [],
      "source": [
        "import fasttext"
      ]
    },
    {
      "cell_type": "markdown",
      "metadata": {
        "id": "C1zJBYOg-Q2i"
      },
      "source": [
        "Необязательно запускать"
      ]
    },
    {
      "cell_type": "code",
      "execution_count": null,
      "metadata": {
        "id": "knIjWcr-73Ob"
      },
      "outputs": [],
      "source": [
        "df = pd.read_csv('/content/drive/MyDrive/preprocess_train.csv')\n",
        "\n",
        "df['name_1'] = df['name_1'].apply(lambda x: re.sub(r'[^\\w\\s]+|[\\d]+', r'', x))\n",
        "df['name_1'] = df['name_1'].apply(lambda x: re.sub(r'[.,\"\\'-?:!;&]', r'', x))\n",
        "df['name_2'] = df['name_2'].apply(lambda x: re.sub(r'[^\\w\\s]+|[\\d]+', r'', x))\n",
        "df['name_2'] = df['name_2'].apply(lambda x: re.sub(r'[.,\"\\'-?:!;&]', r'', x))\n",
        "df['name_1'] = df['name_1'].apply(lambda x: x.replace(' ', '') if len(x) <= 6 else x) \n",
        "df['name_2'] = df['name_2'].apply(lambda x: x.replace(' ', '') if len(x) <= 6 else x)"
      ]
    },
    {
      "cell_type": "code",
      "execution_count": null,
      "metadata": {
        "id": "jGxaIjDmjILk"
      },
      "outputs": [],
      "source": [
        "df['common'] = df['name_1'] + \" /SEP/  \" +  df['name_2'] "
      ]
    },
    {
      "cell_type": "code",
      "execution_count": null,
      "metadata": {
        "id": "zt8oYApWkwYs"
      },
      "outputs": [],
      "source": [
        "df['is_duplicate_str'] = df['is_duplicate'].replace({0 : '__label__NEGATIVE', 1: '__label__POSITIVE'})"
      ]
    },
    {
      "cell_type": "code",
      "execution_count": null,
      "metadata": {
        "id": "FS3BMoPVlY45"
      },
      "outputs": [],
      "source": [
        "X_train, X_test, y_train, y_test = train_test_split(df.common, df.is_duplicate_str, test_size=0.2, stratify=df.is_duplicate_str)"
      ]
    },
    {
      "cell_type": "code",
      "execution_count": null,
      "metadata": {
        "colab": {
          "base_uri": "https://localhost:8080/",
          "height": 419
        },
        "id": "e9CQqeSkmDuF",
        "outputId": "1a25dfc7-a7d2-435c-ab77-3efe0f9e6a46"
      },
      "outputs": [
        {
          "data": {
            "text/html": [
              "\n",
              "  <div id=\"df-97d5eb21-1ec0-4670-b936-02a4ec3f1454\">\n",
              "    <div class=\"colab-df-container\">\n",
              "      <div>\n",
              "<style scoped>\n",
              "    .dataframe tbody tr th:only-of-type {\n",
              "        vertical-align: middle;\n",
              "    }\n",
              "\n",
              "    .dataframe tbody tr th {\n",
              "        vertical-align: top;\n",
              "    }\n",
              "\n",
              "    .dataframe thead th {\n",
              "        text-align: right;\n",
              "    }\n",
              "</style>\n",
              "<table border=\"1\" class=\"dataframe\">\n",
              "  <thead>\n",
              "    <tr style=\"text-align: right;\">\n",
              "      <th></th>\n",
              "      <th>common</th>\n",
              "      <th>is_duplicate_str</th>\n",
              "    </tr>\n",
              "  </thead>\n",
              "  <tbody>\n",
              "    <tr>\n",
              "      <th>321747</th>\n",
              "      <td>excel polymer industries /SEP/  stp ltd</td>\n",
              "      <td>__label__NEGATIVE</td>\n",
              "    </tr>\n",
              "    <tr>\n",
              "      <th>915</th>\n",
              "      <td>qingdao xinhongtai logistics co ltd /SEP/  qin...</td>\n",
              "      <td>__label__NEGATIVE</td>\n",
              "    </tr>\n",
              "    <tr>\n",
              "      <th>168449</th>\n",
              "      <td>dependable distribution /SEP/  volume distribu...</td>\n",
              "      <td>__label__NEGATIVE</td>\n",
              "    </tr>\n",
              "    <tr>\n",
              "      <th>227918</th>\n",
              "      <td>pl /SEP/  ik plastic compound mexico sa de cv</td>\n",
              "      <td>__label__NEGATIVE</td>\n",
              "    </tr>\n",
              "    <tr>\n",
              "      <th>173407</th>\n",
              "      <td>synthomer llc peachtree lenox bl bonded logist...</td>\n",
              "      <td>__label__NEGATIVE</td>\n",
              "    </tr>\n",
              "    <tr>\n",
              "      <th>...</th>\n",
              "      <td>...</td>\n",
              "      <td>...</td>\n",
              "    </tr>\n",
              "    <tr>\n",
              "      <th>78031</th>\n",
              "      <td>llc ikea torg  /SEP/  a s international</td>\n",
              "      <td>__label__NEGATIVE</td>\n",
              "    </tr>\n",
              "    <tr>\n",
              "      <th>90208</th>\n",
              "      <td>industries commodities inc /SEP/  kl industries</td>\n",
              "      <td>__label__NEGATIVE</td>\n",
              "    </tr>\n",
              "    <tr>\n",
              "      <th>371069</th>\n",
              "      <td>especialidades quimicas de colombia  compania ...</td>\n",
              "      <td>__label__NEGATIVE</td>\n",
              "    </tr>\n",
              "    <tr>\n",
              "      <th>388658</th>\n",
              "      <td>lagan bitumen ltd /SEP/  orlen asfalt sp z oo</td>\n",
              "      <td>__label__NEGATIVE</td>\n",
              "    </tr>\n",
              "    <tr>\n",
              "      <th>303064</th>\n",
              "      <td>ttc logistics inc /SEP/  logistics ltd</td>\n",
              "      <td>__label__NEGATIVE</td>\n",
              "    </tr>\n",
              "  </tbody>\n",
              "</table>\n",
              "<p>398255 rows × 2 columns</p>\n",
              "</div>\n",
              "      <button class=\"colab-df-convert\" onclick=\"convertToInteractive('df-97d5eb21-1ec0-4670-b936-02a4ec3f1454')\"\n",
              "              title=\"Convert this dataframe to an interactive table.\"\n",
              "              style=\"display:none;\">\n",
              "        \n",
              "  <svg xmlns=\"http://www.w3.org/2000/svg\" height=\"24px\"viewBox=\"0 0 24 24\"\n",
              "       width=\"24px\">\n",
              "    <path d=\"M0 0h24v24H0V0z\" fill=\"none\"/>\n",
              "    <path d=\"M18.56 5.44l.94 2.06.94-2.06 2.06-.94-2.06-.94-.94-2.06-.94 2.06-2.06.94zm-11 1L8.5 8.5l.94-2.06 2.06-.94-2.06-.94L8.5 2.5l-.94 2.06-2.06.94zm10 10l.94 2.06.94-2.06 2.06-.94-2.06-.94-.94-2.06-.94 2.06-2.06.94z\"/><path d=\"M17.41 7.96l-1.37-1.37c-.4-.4-.92-.59-1.43-.59-.52 0-1.04.2-1.43.59L10.3 9.45l-7.72 7.72c-.78.78-.78 2.05 0 2.83L4 21.41c.39.39.9.59 1.41.59.51 0 1.02-.2 1.41-.59l7.78-7.78 2.81-2.81c.8-.78.8-2.07 0-2.86zM5.41 20L4 18.59l7.72-7.72 1.47 1.35L5.41 20z\"/>\n",
              "  </svg>\n",
              "      </button>\n",
              "      \n",
              "  <style>\n",
              "    .colab-df-container {\n",
              "      display:flex;\n",
              "      flex-wrap:wrap;\n",
              "      gap: 12px;\n",
              "    }\n",
              "\n",
              "    .colab-df-convert {\n",
              "      background-color: #E8F0FE;\n",
              "      border: none;\n",
              "      border-radius: 50%;\n",
              "      cursor: pointer;\n",
              "      display: none;\n",
              "      fill: #1967D2;\n",
              "      height: 32px;\n",
              "      padding: 0 0 0 0;\n",
              "      width: 32px;\n",
              "    }\n",
              "\n",
              "    .colab-df-convert:hover {\n",
              "      background-color: #E2EBFA;\n",
              "      box-shadow: 0px 1px 2px rgba(60, 64, 67, 0.3), 0px 1px 3px 1px rgba(60, 64, 67, 0.15);\n",
              "      fill: #174EA6;\n",
              "    }\n",
              "\n",
              "    [theme=dark] .colab-df-convert {\n",
              "      background-color: #3B4455;\n",
              "      fill: #D2E3FC;\n",
              "    }\n",
              "\n",
              "    [theme=dark] .colab-df-convert:hover {\n",
              "      background-color: #434B5C;\n",
              "      box-shadow: 0px 1px 3px 1px rgba(0, 0, 0, 0.15);\n",
              "      filter: drop-shadow(0px 1px 2px rgba(0, 0, 0, 0.3));\n",
              "      fill: #FFFFFF;\n",
              "    }\n",
              "  </style>\n",
              "\n",
              "      <script>\n",
              "        const buttonEl =\n",
              "          document.querySelector('#df-97d5eb21-1ec0-4670-b936-02a4ec3f1454 button.colab-df-convert');\n",
              "        buttonEl.style.display =\n",
              "          google.colab.kernel.accessAllowed ? 'block' : 'none';\n",
              "\n",
              "        async function convertToInteractive(key) {\n",
              "          const element = document.querySelector('#df-97d5eb21-1ec0-4670-b936-02a4ec3f1454');\n",
              "          const dataTable =\n",
              "            await google.colab.kernel.invokeFunction('convertToInteractive',\n",
              "                                                     [key], {});\n",
              "          if (!dataTable) return;\n",
              "\n",
              "          const docLinkHtml = 'Like what you see? Visit the ' +\n",
              "            '<a target=\"_blank\" href=https://colab.research.google.com/notebooks/data_table.ipynb>data table notebook</a>'\n",
              "            + ' to learn more about interactive tables.';\n",
              "          element.innerHTML = '';\n",
              "          dataTable['output_type'] = 'display_data';\n",
              "          await google.colab.output.renderOutput(dataTable, element);\n",
              "          const docLink = document.createElement('div');\n",
              "          docLink.innerHTML = docLinkHtml;\n",
              "          element.appendChild(docLink);\n",
              "        }\n",
              "      </script>\n",
              "    </div>\n",
              "  </div>\n",
              "  "
            ],
            "text/plain": [
              "                                                   common   is_duplicate_str\n",
              "321747            excel polymer industries /SEP/  stp ltd  __label__NEGATIVE\n",
              "915     qingdao xinhongtai logistics co ltd /SEP/  qin...  __label__NEGATIVE\n",
              "168449  dependable distribution /SEP/  volume distribu...  __label__NEGATIVE\n",
              "227918      pl /SEP/  ik plastic compound mexico sa de cv  __label__NEGATIVE\n",
              "173407  synthomer llc peachtree lenox bl bonded logist...  __label__NEGATIVE\n",
              "...                                                   ...                ...\n",
              "78031             llc ikea torg  /SEP/  a s international  __label__NEGATIVE\n",
              "90208     industries commodities inc /SEP/  kl industries  __label__NEGATIVE\n",
              "371069  especialidades quimicas de colombia  compania ...  __label__NEGATIVE\n",
              "388658      lagan bitumen ltd /SEP/  orlen asfalt sp z oo  __label__NEGATIVE\n",
              "303064             ttc logistics inc /SEP/  logistics ltd  __label__NEGATIVE\n",
              "\n",
              "[398255 rows x 2 columns]"
            ]
          },
          "execution_count": 10,
          "metadata": {},
          "output_type": "execute_result"
        }
      ],
      "source": [
        "train_df = pd.DataFrame({'common': X_train, 'is_duplicate_str' :y_train})[:398256 - 1]\n",
        "train_df"
      ]
    },
    {
      "cell_type": "markdown",
      "metadata": {
        "id": "oYsu9r19-V1f"
      },
      "source": [
        "Обязательно запускать \n"
      ]
    },
    {
      "cell_type": "code",
      "execution_count": null,
      "metadata": {
        "id": "8b7aFe0zm2rb"
      },
      "outputs": [],
      "source": [
        "train_df.to_csv(r'/content/drive/MyDrive/company.train', index=False, sep=' ', header=False,  escapechar=\" \")"
      ]
    },
    {
      "cell_type": "code",
      "execution_count": null,
      "metadata": {
        "id": "Yx4dqrknm-Xh"
      },
      "outputs": [],
      "source": [
        "ft_model = \\\n",
        " fasttext.train_supervised(input=\"/content/drive/MyDrive/company.train\", epoch=10, lr=.01, wordNgrams=2, minn=2 ,maxn=5)"
      ]
    },
    {
      "cell_type": "code",
      "execution_count": null,
      "metadata": {
        "id": "W1Xz07efrZV8"
      },
      "outputs": [],
      "source": [
        "ft_model.save_model('/content/drive/MyDrive/company_model.bin')"
      ]
    },
    {
      "cell_type": "code",
      "execution_count": null,
      "metadata": {
        "id": "w4_SsJHZn5JC"
      },
      "outputs": [],
      "source": [
        "preds_text = X_test.apply(lambda x: ft_model.predict(x, threshold=0.5)[0][0])"
      ]
    },
    {
      "cell_type": "code",
      "execution_count": null,
      "metadata": {
        "id": "yVHyfCJAo5cl"
      },
      "outputs": [],
      "source": [
        "preds_num = []\n",
        "for i in preds_text:\n",
        "\n",
        "  if i == '__label__NEGATIVE':\n",
        "    preds_num.append(0)\n",
        "  else:\n",
        "    preds_num.append(1)"
      ]
    },
    {
      "cell_type": "code",
      "execution_count": null,
      "metadata": {
        "id": "5gev-UZ171PZ"
      },
      "outputs": [],
      "source": [
        "y_test = y_test.replace({'__label__NEGATIVE' : 0, '__label__POSITIVE' : 1})"
      ]
    },
    {
      "cell_type": "code",
      "execution_count": null,
      "metadata": {
        "colab": {
          "base_uri": "https://localhost:8080/"
        },
        "id": "MA1_zScZptL_",
        "outputId": "9f073280-be09-46f8-9445-68d4335a838e"
      },
      "outputs": [
        {
          "name": "stdout",
          "output_type": "stream",
          "text": [
            "0.5286885245901639\n",
            "0.8795454545454545\n",
            "0.8291995042577462\n"
          ]
        }
      ],
      "source": [
        "print(recall_score(y_test, preds_num))\n",
        "print(precision_score(y_test, preds_num))\n",
        "print(f1_score(y_test, preds_num, average='macro'))"
      ]
    },
    {
      "cell_type": "code",
      "execution_count": null,
      "metadata": {
        "id": "HfrrKKHzrQSd"
      },
      "outputs": [],
      "source": []
    }
  ],
  "metadata": {
    "colab": {
      "collapsed_sections": [],
      "provenance": []
    },
    "kernelspec": {
      "display_name": "Python 3.10.7 ('.venv': venv)",
      "language": "python",
      "name": "python3"
    },
    "language_info": {
      "codemirror_mode": {
        "name": "ipython",
        "version": 3
      },
      "file_extension": ".py",
      "mimetype": "text/x-python",
      "name": "python",
      "nbconvert_exporter": "python",
      "pygments_lexer": "ipython3",
      "version": "3.8.14"
    },
    "vscode": {
      "interpreter": {
        "hash": "423a779d4a8dfaa74d2e773745ab0c281fb83b66bd8f61292da672673aa4993f"
      }
    }
  },
  "nbformat": 4,
  "nbformat_minor": 0
}
