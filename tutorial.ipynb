{
 "cells": [
  {
   "cell_type": "code",
   "execution_count": null,
   "metadata": {},
   "outputs": [],
   "source": [
    "!python src/compare_two_company_name.py --algo bert -n aaaa aaaa"
   ]
  },
  {
   "cell_type": "code",
   "execution_count": null,
   "metadata": {},
   "outputs": [],
   "source": [
    "!python src/compare_two_company_name.py --algo sentence_bert -n aaaa aaaa"
   ]
  },
  {
   "cell_type": "code",
   "execution_count": 21,
   "metadata": {},
   "outputs": [
    {
     "name": "stdout",
     "output_type": "stream",
     "text": [
      "Warning : `load_model` does not return WordVectorModel or SupervisedModel any more, but a `FastText` object which is very similar.\n",
      "Компании aaaa aaaa одинаковые!\n"
     ]
    }
   ],
   "source": [
    "!python src/compare_two_company_name.py --algo fasttext -n aaaa aaaa"
   ]
  },
  {
   "cell_type": "code",
   "execution_count": null,
   "metadata": {},
   "outputs": [],
   "source": [
    "!python src/get_similar_company.py --algo bert -n aaaa"
   ]
  },
  {
   "cell_type": "markdown",
   "metadata": {},
   "source": []
  },
  {
   "cell_type": "code",
   "execution_count": null,
   "metadata": {},
   "outputs": [],
   "source": [
    "!python src/get_similar_company.py --algo sentence_bert -n aaaa"
   ]
  },
  {
   "cell_type": "code",
   "execution_count": 68,
   "metadata": {},
   "outputs": [
    {
     "name": "stdout",
     "output_type": "stream",
     "text": [
      "Warning : `load_model` does not return WordVectorModel or SupervisedModel any more, but a `FastText` object which is very similar.\n",
      "Найдено 10 похожих компаний:\n",
      " -aaa enterprise fze\n",
      " -aaa acme rubber co.\n",
      " -aa synthetic fibers ltd.\n",
      " -aa spinning mills ltd.\n",
      " -hardy spicer dc xaa\n",
      " -smyths toys hq\n",
      " -raj overseas\n",
      " -acaa industrial sales.\n",
      " -southern glazer's w&s of texas\n",
      " -rauf and sons\n"
     ]
    }
   ],
   "source": [
    "!python src/get_similar_company.py --algo fasttext -n aaaa"
   ]
  }
 ],
 "metadata": {
  "kernelspec": {
   "display_name": "Python 3.10.7 ('.venv': venv)",
   "language": "python",
   "name": "python3"
  },
  "language_info": {
   "codemirror_mode": {
    "name": "ipython",
    "version": 3
   },
   "file_extension": ".py",
   "mimetype": "text/x-python",
   "name": "python",
   "nbconvert_exporter": "python",
   "pygments_lexer": "ipython3",
   "version": "3.8.14"
  },
  "orig_nbformat": 4,
  "vscode": {
   "interpreter": {
    "hash": "423a779d4a8dfaa74d2e773745ab0c281fb83b66bd8f61292da672673aa4993f"
   }
  }
 },
 "nbformat": 4,
 "nbformat_minor": 2
}
