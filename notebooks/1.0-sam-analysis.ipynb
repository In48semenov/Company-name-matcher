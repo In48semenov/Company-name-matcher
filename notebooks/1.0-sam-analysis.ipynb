{
 "cells": [
  {
   "cell_type": "code",
   "execution_count": 1,
   "metadata": {},
   "outputs": [],
   "source": [
    "import pandas as pd\n",
    "from name_matching.name_matcher import NameMatcher\n",
    "import unicodedata\n",
    "from transliterate import translit\n",
    "from tqdm.notebook import tqdm\n",
    "tqdm.pandas()"
   ]
  },
  {
   "cell_type": "code",
   "execution_count": 2,
   "metadata": {},
   "outputs": [
    {
     "data": {
      "text/html": [
       "<div>\n",
       "<style scoped>\n",
       "    .dataframe tbody tr th:only-of-type {\n",
       "        vertical-align: middle;\n",
       "    }\n",
       "\n",
       "    .dataframe tbody tr th {\n",
       "        vertical-align: top;\n",
       "    }\n",
       "\n",
       "    .dataframe thead th {\n",
       "        text-align: right;\n",
       "    }\n",
       "</style>\n",
       "<table border=\"1\" class=\"dataframe\">\n",
       "  <thead>\n",
       "    <tr style=\"text-align: right;\">\n",
       "      <th></th>\n",
       "      <th>pair_id</th>\n",
       "      <th>name_1</th>\n",
       "      <th>name_2</th>\n",
       "      <th>is_duplicate</th>\n",
       "    </tr>\n",
       "  </thead>\n",
       "  <tbody>\n",
       "    <tr>\n",
       "      <th>0</th>\n",
       "      <td>1</td>\n",
       "      <td>Iko Industries Ltd.</td>\n",
       "      <td>Enormous Industrial Trade Pvt., Ltd.</td>\n",
       "      <td>0</td>\n",
       "    </tr>\n",
       "    <tr>\n",
       "      <th>1</th>\n",
       "      <td>2</td>\n",
       "      <td>Apcotex Industries Ltd.</td>\n",
       "      <td>Technocraft Industries (India) Ltd.</td>\n",
       "      <td>0</td>\n",
       "    </tr>\n",
       "    <tr>\n",
       "      <th>2</th>\n",
       "      <td>3</td>\n",
       "      <td>Rishichem Distributors Pvt., Ltd.</td>\n",
       "      <td>Dsa</td>\n",
       "      <td>0</td>\n",
       "    </tr>\n",
       "    <tr>\n",
       "      <th>3</th>\n",
       "      <td>4</td>\n",
       "      <td>Powermax Rubber Factory</td>\n",
       "      <td>Co. One</td>\n",
       "      <td>0</td>\n",
       "    </tr>\n",
       "    <tr>\n",
       "      <th>4</th>\n",
       "      <td>5</td>\n",
       "      <td>Tress A/S</td>\n",
       "      <td>Longyou Industries Park Zhejiang</td>\n",
       "      <td>0</td>\n",
       "    </tr>\n",
       "    <tr>\n",
       "      <th>...</th>\n",
       "      <td>...</td>\n",
       "      <td>...</td>\n",
       "      <td>...</td>\n",
       "      <td>...</td>\n",
       "    </tr>\n",
       "    <tr>\n",
       "      <th>497814</th>\n",
       "      <td>497815</td>\n",
       "      <td>BIT-MAT PRODUCTS</td>\n",
       "      <td>The Goodyear Tire and Rubber Company</td>\n",
       "      <td>0</td>\n",
       "    </tr>\n",
       "    <tr>\n",
       "      <th>497815</th>\n",
       "      <td>497816</td>\n",
       "      <td>Bnd Trading Co., Ltd.</td>\n",
       "      <td>Zhong Shan Yue Liang Economy&amp; Trade Imp. &amp; Exp...</td>\n",
       "      <td>0</td>\n",
       "    </tr>\n",
       "    <tr>\n",
       "      <th>497816</th>\n",
       "      <td>497817</td>\n",
       "      <td>Xeikon Industrial Co., Ltd. Of Dongguan City</td>\n",
       "      <td>Yi Cheng Trading Co., Ltd. Of Dongguan City</td>\n",
       "      <td>0</td>\n",
       "    </tr>\n",
       "    <tr>\n",
       "      <th>497817</th>\n",
       "      <td>497818</td>\n",
       "      <td>Shanghai Kechuan Trading Co., Ltd.</td>\n",
       "      <td>Shanghai M&amp;G Stationery Inc.</td>\n",
       "      <td>0</td>\n",
       "    </tr>\n",
       "    <tr>\n",
       "      <th>497818</th>\n",
       "      <td>497819</td>\n",
       "      <td>Dih Wei Industries Co.</td>\n",
       "      <td>Burlington Industries Corporate</td>\n",
       "      <td>0</td>\n",
       "    </tr>\n",
       "  </tbody>\n",
       "</table>\n",
       "<p>497819 rows × 4 columns</p>\n",
       "</div>"
      ],
      "text/plain": [
       "        pair_id                                        name_1  \\\n",
       "0             1                           Iko Industries Ltd.   \n",
       "1             2                       Apcotex Industries Ltd.   \n",
       "2             3             Rishichem Distributors Pvt., Ltd.   \n",
       "3             4                       Powermax Rubber Factory   \n",
       "4             5                                     Tress A/S   \n",
       "...         ...                                           ...   \n",
       "497814   497815                              BIT-MAT PRODUCTS   \n",
       "497815   497816                         Bnd Trading Co., Ltd.   \n",
       "497816   497817  Xeikon Industrial Co., Ltd. Of Dongguan City   \n",
       "497817   497818            Shanghai Kechuan Trading Co., Ltd.   \n",
       "497818   497819                        Dih Wei Industries Co.   \n",
       "\n",
       "                                                   name_2  is_duplicate  \n",
       "0                    Enormous Industrial Trade Pvt., Ltd.             0  \n",
       "1                     Technocraft Industries (India) Ltd.             0  \n",
       "2                                                     Dsa             0  \n",
       "3                                                 Co. One             0  \n",
       "4                        Longyou Industries Park Zhejiang             0  \n",
       "...                                                   ...           ...  \n",
       "497814               The Goodyear Tire and Rubber Company             0  \n",
       "497815  Zhong Shan Yue Liang Economy& Trade Imp. & Exp...             0  \n",
       "497816        Yi Cheng Trading Co., Ltd. Of Dongguan City             0  \n",
       "497817                       Shanghai M&G Stationery Inc.             0  \n",
       "497818                    Burlington Industries Corporate             0  \n",
       "\n",
       "[497819 rows x 4 columns]"
      ]
     },
     "execution_count": 2,
     "metadata": {},
     "output_type": "execute_result"
    }
   ],
   "source": [
    "df = pd.read_csv('../data/train.csv')\n",
    "df"
   ]
  },
  {
   "cell_type": "code",
   "execution_count": 3,
   "metadata": {},
   "outputs": [],
   "source": [
    "df.drop('pair_id', axis=1, inplace=True)"
   ]
  },
  {
   "cell_type": "code",
   "execution_count": 4,
   "metadata": {},
   "outputs": [
    {
     "data": {
      "text/plain": [
       "name_1          object\n",
       "name_2          object\n",
       "is_duplicate     int64\n",
       "dtype: object"
      ]
     },
     "execution_count": 4,
     "metadata": {},
     "output_type": "execute_result"
    }
   ],
   "source": [
    "df.dtypes"
   ]
  },
  {
   "cell_type": "code",
   "execution_count": 5,
   "metadata": {},
   "outputs": [
    {
     "data": {
      "text/plain": [
       "(0    494161\n",
       " 1      3658\n",
       " Name: is_duplicate, dtype: int64,\n",
       " 0    0.992652\n",
       " 1    0.007348\n",
       " Name: is_duplicate, dtype: float64)"
      ]
     },
     "execution_count": 5,
     "metadata": {},
     "output_type": "execute_result"
    }
   ],
   "source": [
    "df['is_duplicate'].value_counts(), df['is_duplicate'].value_counts(normalize=True)"
   ]
  },
  {
   "cell_type": "code",
   "execution_count": 6,
   "metadata": {},
   "outputs": [
    {
     "data": {
      "text/plain": [
       "name_1          0\n",
       "name_2          0\n",
       "is_duplicate    0\n",
       "dtype: int64"
      ]
     },
     "execution_count": 6,
     "metadata": {},
     "output_type": "execute_result"
    }
   ],
   "source": [
    "df.isnull().sum()"
   ]
  },
  {
   "cell_type": "markdown",
   "metadata": {},
   "source": [
    "### Preprocess"
   ]
  },
  {
   "cell_type": "code",
   "execution_count": 8,
   "metadata": {},
   "outputs": [],
   "source": [
    "df_new = df.copy()"
   ]
  },
  {
   "cell_type": "code",
   "execution_count": 9,
   "metadata": {},
   "outputs": [],
   "source": [
    "df_new['name_1'] = df_new['name_1'].apply(lambda text: str(text.lower()))\n",
    "df_new['name_2'] = df_new['name_2'].apply(lambda text: str(text.lower()))"
   ]
  },
  {
   "cell_type": "code",
   "execution_count": 10,
   "metadata": {},
   "outputs": [
    {
     "data": {
      "text/html": [
       "<div>\n",
       "<style scoped>\n",
       "    .dataframe tbody tr th:only-of-type {\n",
       "        vertical-align: middle;\n",
       "    }\n",
       "\n",
       "    .dataframe tbody tr th {\n",
       "        vertical-align: top;\n",
       "    }\n",
       "\n",
       "    .dataframe thead th {\n",
       "        text-align: right;\n",
       "    }\n",
       "</style>\n",
       "<table border=\"1\" class=\"dataframe\">\n",
       "  <thead>\n",
       "    <tr style=\"text-align: right;\">\n",
       "      <th></th>\n",
       "      <th>name_1</th>\n",
       "      <th>name_2</th>\n",
       "      <th>is_duplicate</th>\n",
       "    </tr>\n",
       "  </thead>\n",
       "  <tbody>\n",
       "    <tr>\n",
       "      <th>0</th>\n",
       "      <td>iko industries ltd.</td>\n",
       "      <td>enormous industrial trade pvt., ltd.</td>\n",
       "      <td>0</td>\n",
       "    </tr>\n",
       "    <tr>\n",
       "      <th>1</th>\n",
       "      <td>apcotex industries ltd.</td>\n",
       "      <td>technocraft industries (india) ltd.</td>\n",
       "      <td>0</td>\n",
       "    </tr>\n",
       "    <tr>\n",
       "      <th>2</th>\n",
       "      <td>rishichem distributors pvt., ltd.</td>\n",
       "      <td>dsa</td>\n",
       "      <td>0</td>\n",
       "    </tr>\n",
       "    <tr>\n",
       "      <th>3</th>\n",
       "      <td>powermax rubber factory</td>\n",
       "      <td>co. one</td>\n",
       "      <td>0</td>\n",
       "    </tr>\n",
       "    <tr>\n",
       "      <th>4</th>\n",
       "      <td>tress a/s</td>\n",
       "      <td>longyou industries park zhejiang</td>\n",
       "      <td>0</td>\n",
       "    </tr>\n",
       "  </tbody>\n",
       "</table>\n",
       "</div>"
      ],
      "text/plain": [
       "                              name_1                                name_2  \\\n",
       "0                iko industries ltd.  enormous industrial trade pvt., ltd.   \n",
       "1            apcotex industries ltd.   technocraft industries (india) ltd.   \n",
       "2  rishichem distributors pvt., ltd.                                   dsa   \n",
       "3            powermax rubber factory                               co. one   \n",
       "4                          tress a/s      longyou industries park zhejiang   \n",
       "\n",
       "   is_duplicate  \n",
       "0             0  \n",
       "1             0  \n",
       "2             0  \n",
       "3             0  \n",
       "4             0  "
      ]
     },
     "execution_count": 10,
     "metadata": {},
     "output_type": "execute_result"
    }
   ],
   "source": [
    "df_new.head()"
   ]
  },
  {
   "cell_type": "code",
   "execution_count": 11,
   "metadata": {},
   "outputs": [
    {
     "data": {
      "text/html": [
       "<div>\n",
       "<style scoped>\n",
       "    .dataframe tbody tr th:only-of-type {\n",
       "        vertical-align: middle;\n",
       "    }\n",
       "\n",
       "    .dataframe tbody tr th {\n",
       "        vertical-align: top;\n",
       "    }\n",
       "\n",
       "    .dataframe thead th {\n",
       "        text-align: right;\n",
       "    }\n",
       "</style>\n",
       "<table border=\"1\" class=\"dataframe\">\n",
       "  <thead>\n",
       "    <tr style=\"text-align: right;\">\n",
       "      <th></th>\n",
       "      <th>name_1</th>\n",
       "      <th>name_2</th>\n",
       "      <th>is_duplicate</th>\n",
       "    </tr>\n",
       "  </thead>\n",
       "  <tbody>\n",
       "    <tr>\n",
       "      <th>0</th>\n",
       "      <td>iko industries ltd.</td>\n",
       "      <td>enormous industrial trade pvt., ltd.</td>\n",
       "      <td>0</td>\n",
       "    </tr>\n",
       "    <tr>\n",
       "      <th>1</th>\n",
       "      <td>apcotex industries ltd.</td>\n",
       "      <td>technocraft industries (india) ltd.</td>\n",
       "      <td>0</td>\n",
       "    </tr>\n",
       "    <tr>\n",
       "      <th>2</th>\n",
       "      <td>rishichem distributors pvt., ltd.</td>\n",
       "      <td>dsa</td>\n",
       "      <td>0</td>\n",
       "    </tr>\n",
       "    <tr>\n",
       "      <th>3</th>\n",
       "      <td>powermax rubber factory</td>\n",
       "      <td>co. one</td>\n",
       "      <td>0</td>\n",
       "    </tr>\n",
       "    <tr>\n",
       "      <th>4</th>\n",
       "      <td>tress a/s</td>\n",
       "      <td>longyou industries park zhejiang</td>\n",
       "      <td>0</td>\n",
       "    </tr>\n",
       "    <tr>\n",
       "      <th>...</th>\n",
       "      <td>...</td>\n",
       "      <td>...</td>\n",
       "      <td>...</td>\n",
       "    </tr>\n",
       "    <tr>\n",
       "      <th>497814</th>\n",
       "      <td>bit-mat products</td>\n",
       "      <td>the goodyear tire and rubber company</td>\n",
       "      <td>0</td>\n",
       "    </tr>\n",
       "    <tr>\n",
       "      <th>497815</th>\n",
       "      <td>bnd trading co., ltd.</td>\n",
       "      <td>zhong shan yue liang economy&amp; trade imp. &amp; exp...</td>\n",
       "      <td>0</td>\n",
       "    </tr>\n",
       "    <tr>\n",
       "      <th>497816</th>\n",
       "      <td>xeikon industrial co., ltd. of dongguan city</td>\n",
       "      <td>yi cheng trading co., ltd. of dongguan city</td>\n",
       "      <td>0</td>\n",
       "    </tr>\n",
       "    <tr>\n",
       "      <th>497817</th>\n",
       "      <td>shanghai kechuan trading co., ltd.</td>\n",
       "      <td>shanghai m&amp;g stationery inc.</td>\n",
       "      <td>0</td>\n",
       "    </tr>\n",
       "    <tr>\n",
       "      <th>497818</th>\n",
       "      <td>dih wei industries co.</td>\n",
       "      <td>burlington industries corporate</td>\n",
       "      <td>0</td>\n",
       "    </tr>\n",
       "  </tbody>\n",
       "</table>\n",
       "<p>497819 rows × 3 columns</p>\n",
       "</div>"
      ],
      "text/plain": [
       "                                              name_1  \\\n",
       "0                                iko industries ltd.   \n",
       "1                            apcotex industries ltd.   \n",
       "2                  rishichem distributors pvt., ltd.   \n",
       "3                            powermax rubber factory   \n",
       "4                                          tress a/s   \n",
       "...                                              ...   \n",
       "497814                              bit-mat products   \n",
       "497815                         bnd trading co., ltd.   \n",
       "497816  xeikon industrial co., ltd. of dongguan city   \n",
       "497817            shanghai kechuan trading co., ltd.   \n",
       "497818                        dih wei industries co.   \n",
       "\n",
       "                                                   name_2  is_duplicate  \n",
       "0                    enormous industrial trade pvt., ltd.             0  \n",
       "1                     technocraft industries (india) ltd.             0  \n",
       "2                                                     dsa             0  \n",
       "3                                                 co. one             0  \n",
       "4                        longyou industries park zhejiang             0  \n",
       "...                                                   ...           ...  \n",
       "497814               the goodyear tire and rubber company             0  \n",
       "497815  zhong shan yue liang economy& trade imp. & exp...             0  \n",
       "497816        yi cheng trading co., ltd. of dongguan city             0  \n",
       "497817                       shanghai m&g stationery inc.             0  \n",
       "497818                    burlington industries corporate             0  \n",
       "\n",
       "[497819 rows x 3 columns]"
      ]
     },
     "execution_count": 11,
     "metadata": {},
     "output_type": "execute_result"
    }
   ],
   "source": [
    "df_new['name_1']  = df_new['name_1'].apply(\n",
    "    lambda text: unicodedata.normalize('NFKD', text)\n",
    ")\n",
    "\n",
    "df_new['name_2']  = df_new['name_2'].apply(\n",
    "    lambda text: unicodedata.normalize('NFKD', text)\n",
    ")\n",
    "\n",
    "df_new"
   ]
  },
  {
   "cell_type": "code",
   "execution_count": 58,
   "metadata": {},
   "outputs": [
    {
     "data": {
      "text/plain": [
       "name_1          0\n",
       "name_2          0\n",
       "is_duplicate    0\n",
       "dtype: int64"
      ]
     },
     "execution_count": 58,
     "metadata": {},
     "output_type": "execute_result"
    }
   ],
   "source": [
    "df_new.isnull().sum()"
   ]
  },
  {
   "cell_type": "code",
   "execution_count": 12,
   "metadata": {},
   "outputs": [
    {
     "data": {
      "text/html": [
       "<div>\n",
       "<style scoped>\n",
       "    .dataframe tbody tr th:only-of-type {\n",
       "        vertical-align: middle;\n",
       "    }\n",
       "\n",
       "    .dataframe tbody tr th {\n",
       "        vertical-align: top;\n",
       "    }\n",
       "\n",
       "    .dataframe thead th {\n",
       "        text-align: right;\n",
       "    }\n",
       "</style>\n",
       "<table border=\"1\" class=\"dataframe\">\n",
       "  <thead>\n",
       "    <tr style=\"text-align: right;\">\n",
       "      <th></th>\n",
       "      <th>company</th>\n",
       "    </tr>\n",
       "  </thead>\n",
       "  <tbody>\n",
       "    <tr>\n",
       "      <th>0</th>\n",
       "      <td>iko industries ltd.</td>\n",
       "    </tr>\n",
       "    <tr>\n",
       "      <th>1</th>\n",
       "      <td>apcotex industries ltd.</td>\n",
       "    </tr>\n",
       "    <tr>\n",
       "      <th>2</th>\n",
       "      <td>rishichem distributors pvt., ltd.</td>\n",
       "    </tr>\n",
       "    <tr>\n",
       "      <th>3</th>\n",
       "      <td>powermax rubber factory</td>\n",
       "    </tr>\n",
       "    <tr>\n",
       "      <th>4</th>\n",
       "      <td>tress a/s</td>\n",
       "    </tr>\n",
       "    <tr>\n",
       "      <th>...</th>\n",
       "      <td>...</td>\n",
       "    </tr>\n",
       "    <tr>\n",
       "      <th>995633</th>\n",
       "      <td>the goodyear tire and rubber company</td>\n",
       "    </tr>\n",
       "    <tr>\n",
       "      <th>995634</th>\n",
       "      <td>zhong shan yue liang economy&amp; trade imp. &amp; exp...</td>\n",
       "    </tr>\n",
       "    <tr>\n",
       "      <th>995635</th>\n",
       "      <td>yi cheng trading co., ltd. of dongguan city</td>\n",
       "    </tr>\n",
       "    <tr>\n",
       "      <th>995636</th>\n",
       "      <td>shanghai m&amp;g stationery inc.</td>\n",
       "    </tr>\n",
       "    <tr>\n",
       "      <th>995637</th>\n",
       "      <td>burlington industries corporate</td>\n",
       "    </tr>\n",
       "  </tbody>\n",
       "</table>\n",
       "<p>995638 rows × 1 columns</p>\n",
       "</div>"
      ],
      "text/plain": [
       "                                                  company\n",
       "0                                     iko industries ltd.\n",
       "1                                 apcotex industries ltd.\n",
       "2                       rishichem distributors pvt., ltd.\n",
       "3                                 powermax rubber factory\n",
       "4                                               tress a/s\n",
       "...                                                   ...\n",
       "995633               the goodyear tire and rubber company\n",
       "995634  zhong shan yue liang economy& trade imp. & exp...\n",
       "995635        yi cheng trading co., ltd. of dongguan city\n",
       "995636                       shanghai m&g stationery inc.\n",
       "995637                    burlington industries corporate\n",
       "\n",
       "[995638 rows x 1 columns]"
      ]
     },
     "execution_count": 12,
     "metadata": {},
     "output_type": "execute_result"
    }
   ],
   "source": [
    "df_all_cmp = pd.concat(\n",
    "    [\n",
    "        df_new[['name_1']].rename(columns={'name_1': 'company'}),\n",
    "        df_new[['name_2']].rename(columns={'name_2': 'company'})\n",
    "    ],\n",
    "    ignore_index=True,\n",
    ")\n",
    "\n",
    "df_all_cmp"
   ]
  },
  {
   "cell_type": "code",
   "execution_count": 13,
   "metadata": {},
   "outputs": [
    {
     "data": {
      "text/html": [
       "<div>\n",
       "<style scoped>\n",
       "    .dataframe tbody tr th:only-of-type {\n",
       "        vertical-align: middle;\n",
       "    }\n",
       "\n",
       "    .dataframe tbody tr th {\n",
       "        vertical-align: top;\n",
       "    }\n",
       "\n",
       "    .dataframe thead th {\n",
       "        text-align: right;\n",
       "    }\n",
       "</style>\n",
       "<table border=\"1\" class=\"dataframe\">\n",
       "  <thead>\n",
       "    <tr style=\"text-align: right;\">\n",
       "      <th></th>\n",
       "      <th>company</th>\n",
       "    </tr>\n",
       "  </thead>\n",
       "  <tbody>\n",
       "    <tr>\n",
       "      <th>995633</th>\n",
       "      <td>the goodyear tire and rubber company</td>\n",
       "    </tr>\n",
       "    <tr>\n",
       "      <th>995634</th>\n",
       "      <td>zhong shan yue liang economy&amp; trade imp. &amp; exp...</td>\n",
       "    </tr>\n",
       "    <tr>\n",
       "      <th>995635</th>\n",
       "      <td>yi cheng trading co., ltd. of dongguan city</td>\n",
       "    </tr>\n",
       "    <tr>\n",
       "      <th>995636</th>\n",
       "      <td>shanghai m&amp;g stationery inc.</td>\n",
       "    </tr>\n",
       "    <tr>\n",
       "      <th>995637</th>\n",
       "      <td>burlington industries corporate</td>\n",
       "    </tr>\n",
       "  </tbody>\n",
       "</table>\n",
       "</div>"
      ],
      "text/plain": [
       "                                                  company\n",
       "995633               the goodyear tire and rubber company\n",
       "995634  zhong shan yue liang economy& trade imp. & exp...\n",
       "995635        yi cheng trading co., ltd. of dongguan city\n",
       "995636                       shanghai m&g stationery inc.\n",
       "995637                    burlington industries corporate"
      ]
     },
     "execution_count": 13,
     "metadata": {},
     "output_type": "execute_result"
    }
   ],
   "source": [
    "df_all_cmp.tail()"
   ]
  },
  {
   "cell_type": "code",
   "execution_count": 14,
   "metadata": {},
   "outputs": [
    {
     "data": {
      "text/plain": [
       "company    0\n",
       "dtype: int64"
      ]
     },
     "execution_count": 14,
     "metadata": {},
     "output_type": "execute_result"
    }
   ],
   "source": [
    "df_all_cmp.isnull().sum()"
   ]
  },
  {
   "cell_type": "code",
   "execution_count": 15,
   "metadata": {},
   "outputs": [
    {
     "data": {
      "image/png": "[encoded data removed]",
      "text/plain": [
       "<Figure size 1200x800 with 1 Axes>"
      ]
     },
     "metadata": {},
     "output_type": "display_data"
    }
   ],
   "source": [
    "df_all_cmp['length'] = df_all_cmp['company'].apply(lambda text: len(str(text)))\n",
    "df_all_cmp['length'].hist(figsize=(12,8));"
   ]
  },
  {
   "cell_type": "code",
   "execution_count": 16,
   "metadata": {},
   "outputs": [
    {
     "name": "stdout",
     "output_type": "stream",
     "text": [
      "median: 23.0\n",
      "mean: 24.138\n",
      "min: 3\n",
      "max: 151\n"
     ]
    }
   ],
   "source": [
    "print(f\"median: {df_all_cmp['length'].median()}\\nmean: {df_all_cmp['length'].mean():.3f}\\nmin: {df_all_cmp['length'].min()}\\nmax: {df_all_cmp['length'].max()}\")"
   ]
  },
  {
   "cell_type": "code",
   "execution_count": 17,
   "metadata": {},
   "outputs": [
    {
     "data": {
      "text/html": [
       "<div>\n",
       "<style scoped>\n",
       "    .dataframe tbody tr th:only-of-type {\n",
       "        vertical-align: middle;\n",
       "    }\n",
       "\n",
       "    .dataframe tbody tr th {\n",
       "        vertical-align: top;\n",
       "    }\n",
       "\n",
       "    .dataframe thead th {\n",
       "        text-align: right;\n",
       "    }\n",
       "</style>\n",
       "<table border=\"1\" class=\"dataframe\">\n",
       "  <thead>\n",
       "    <tr style=\"text-align: right;\">\n",
       "      <th></th>\n",
       "      <th>company</th>\n",
       "      <th>length</th>\n",
       "    </tr>\n",
       "  </thead>\n",
       "  <tbody>\n",
       "    <tr>\n",
       "      <th>45</th>\n",
       "      <td>dsi</td>\n",
       "      <td>3</td>\n",
       "    </tr>\n",
       "    <tr>\n",
       "      <th>133</th>\n",
       "      <td>cts</td>\n",
       "      <td>3</td>\n",
       "    </tr>\n",
       "    <tr>\n",
       "      <th>247</th>\n",
       "      <td>dsi</td>\n",
       "      <td>3</td>\n",
       "    </tr>\n",
       "    <tr>\n",
       "      <th>291</th>\n",
       "      <td>dsi</td>\n",
       "      <td>3</td>\n",
       "    </tr>\n",
       "    <tr>\n",
       "      <th>322</th>\n",
       "      <td>mcl</td>\n",
       "      <td>3</td>\n",
       "    </tr>\n",
       "    <tr>\n",
       "      <th>...</th>\n",
       "      <td>...</td>\n",
       "      <td>...</td>\n",
       "    </tr>\n",
       "    <tr>\n",
       "      <th>995343</th>\n",
       "      <td>ibm</td>\n",
       "      <td>3</td>\n",
       "    </tr>\n",
       "    <tr>\n",
       "      <th>995360</th>\n",
       "      <td>ilg</td>\n",
       "      <td>3</td>\n",
       "    </tr>\n",
       "    <tr>\n",
       "      <th>995377</th>\n",
       "      <td>m.b</td>\n",
       "      <td>3</td>\n",
       "    </tr>\n",
       "    <tr>\n",
       "      <th>995509</th>\n",
       "      <td>dsi</td>\n",
       "      <td>3</td>\n",
       "    </tr>\n",
       "    <tr>\n",
       "      <th>995522</th>\n",
       "      <td>m.b</td>\n",
       "      <td>3</td>\n",
       "    </tr>\n",
       "  </tbody>\n",
       "</table>\n",
       "<p>20993 rows × 2 columns</p>\n",
       "</div>"
      ],
      "text/plain": [
       "       company  length\n",
       "45         dsi       3\n",
       "133        cts       3\n",
       "247        dsi       3\n",
       "291        dsi       3\n",
       "322        mcl       3\n",
       "...        ...     ...\n",
       "995343     ibm       3\n",
       "995360     ilg       3\n",
       "995377     m.b       3\n",
       "995509     dsi       3\n",
       "995522     m.b       3\n",
       "\n",
       "[20993 rows x 2 columns]"
      ]
     },
     "execution_count": 17,
     "metadata": {},
     "output_type": "execute_result"
    }
   ],
   "source": [
    "df_all_cmp[df_all_cmp['length'] == 3]"
   ]
  },
  {
   "cell_type": "code",
   "execution_count": 18,
   "metadata": {},
   "outputs": [],
   "source": [
    "def translit_company_on_lat(df: pd.DataFrame, col_name_1: str = 'name_1', col_name_2: str = 'name_2') -> None:\n",
    "    for col in [col_name_1, col_name_2]:\n",
    "        translit_cmp = list()\n",
    "        for company in tqdm(df[col]):\n",
    "            try:\n",
    "                translit_cmp.append(translit(company, reversed=True))\n",
    "            except:\n",
    "                translit_cmp.append(company)\n",
    "        df[col] = translit_cmp"
   ]
  },
  {
   "cell_type": "code",
   "execution_count": 19,
   "metadata": {},
   "outputs": [
    {
     "data": {
      "application/vnd.jupyter.widget-view+json": {
       "model_id": "38c18196015d4403b072ba4549562a1b",
       "version_major": 2,
       "version_minor": 0
      },
      "text/plain": [
       "  0%|          | 0/497819 [00:00<?, ?it/s]"
      ]
     },
     "metadata": {},
     "output_type": "display_data"
    },
    {
     "data": {
      "application/vnd.jupyter.widget-view+json": {
       "model_id": "c833c14ea3b349e9bb76dbe4f8b759b7",
       "version_major": 2,
       "version_minor": 0
      },
      "text/plain": [
       "  0%|          | 0/497819 [00:00<?, ?it/s]"
      ]
     },
     "metadata": {},
     "output_type": "display_data"
    },
    {
     "data": {
      "text/html": [
       "<div>\n",
       "<style scoped>\n",
       "    .dataframe tbody tr th:only-of-type {\n",
       "        vertical-align: middle;\n",
       "    }\n",
       "\n",
       "    .dataframe tbody tr th {\n",
       "        vertical-align: top;\n",
       "    }\n",
       "\n",
       "    .dataframe thead th {\n",
       "        text-align: right;\n",
       "    }\n",
       "</style>\n",
       "<table border=\"1\" class=\"dataframe\">\n",
       "  <thead>\n",
       "    <tr style=\"text-align: right;\">\n",
       "      <th></th>\n",
       "      <th>name_1</th>\n",
       "      <th>name_2</th>\n",
       "      <th>is_duplicate</th>\n",
       "    </tr>\n",
       "  </thead>\n",
       "  <tbody>\n",
       "    <tr>\n",
       "      <th>0</th>\n",
       "      <td>iko industries ltd.</td>\n",
       "      <td>enormous industrial trade pvt., ltd.</td>\n",
       "      <td>0</td>\n",
       "    </tr>\n",
       "    <tr>\n",
       "      <th>1</th>\n",
       "      <td>apcotex industries ltd.</td>\n",
       "      <td>technocraft industries (india) ltd.</td>\n",
       "      <td>0</td>\n",
       "    </tr>\n",
       "    <tr>\n",
       "      <th>2</th>\n",
       "      <td>rishichem distributors pvt., ltd.</td>\n",
       "      <td>dsa</td>\n",
       "      <td>0</td>\n",
       "    </tr>\n",
       "    <tr>\n",
       "      <th>3</th>\n",
       "      <td>powermax rubber factory</td>\n",
       "      <td>co. one</td>\n",
       "      <td>0</td>\n",
       "    </tr>\n",
       "    <tr>\n",
       "      <th>4</th>\n",
       "      <td>tress a/s</td>\n",
       "      <td>longyou industries park zhejiang</td>\n",
       "      <td>0</td>\n",
       "    </tr>\n",
       "    <tr>\n",
       "      <th>...</th>\n",
       "      <td>...</td>\n",
       "      <td>...</td>\n",
       "      <td>...</td>\n",
       "    </tr>\n",
       "    <tr>\n",
       "      <th>497814</th>\n",
       "      <td>bit-mat products</td>\n",
       "      <td>the goodyear tire and rubber company</td>\n",
       "      <td>0</td>\n",
       "    </tr>\n",
       "    <tr>\n",
       "      <th>497815</th>\n",
       "      <td>bnd trading co., ltd.</td>\n",
       "      <td>zhong shan yue liang economy&amp; trade imp. &amp; exp...</td>\n",
       "      <td>0</td>\n",
       "    </tr>\n",
       "    <tr>\n",
       "      <th>497816</th>\n",
       "      <td>xeikon industrial co., ltd. of dongguan city</td>\n",
       "      <td>yi cheng trading co., ltd. of dongguan city</td>\n",
       "      <td>0</td>\n",
       "    </tr>\n",
       "    <tr>\n",
       "      <th>497817</th>\n",
       "      <td>shanghai kechuan trading co., ltd.</td>\n",
       "      <td>shanghai m&amp;g stationery inc.</td>\n",
       "      <td>0</td>\n",
       "    </tr>\n",
       "    <tr>\n",
       "      <th>497818</th>\n",
       "      <td>dih wei industries co.</td>\n",
       "      <td>burlington industries corporate</td>\n",
       "      <td>0</td>\n",
       "    </tr>\n",
       "  </tbody>\n",
       "</table>\n",
       "<p>497819 rows × 3 columns</p>\n",
       "</div>"
      ],
      "text/plain": [
       "                                              name_1  \\\n",
       "0                                iko industries ltd.   \n",
       "1                            apcotex industries ltd.   \n",
       "2                  rishichem distributors pvt., ltd.   \n",
       "3                            powermax rubber factory   \n",
       "4                                          tress a/s   \n",
       "...                                              ...   \n",
       "497814                              bit-mat products   \n",
       "497815                         bnd trading co., ltd.   \n",
       "497816  xeikon industrial co., ltd. of dongguan city   \n",
       "497817            shanghai kechuan trading co., ltd.   \n",
       "497818                        dih wei industries co.   \n",
       "\n",
       "                                                   name_2  is_duplicate  \n",
       "0                    enormous industrial trade pvt., ltd.             0  \n",
       "1                     technocraft industries (india) ltd.             0  \n",
       "2                                                     dsa             0  \n",
       "3                                                 co. one             0  \n",
       "4                        longyou industries park zhejiang             0  \n",
       "...                                                   ...           ...  \n",
       "497814               the goodyear tire and rubber company             0  \n",
       "497815  zhong shan yue liang economy& trade imp. & exp...             0  \n",
       "497816        yi cheng trading co., ltd. of dongguan city             0  \n",
       "497817                       shanghai m&g stationery inc.             0  \n",
       "497818                    burlington industries corporate             0  \n",
       "\n",
       "[497819 rows x 3 columns]"
      ]
     },
     "execution_count": 19,
     "metadata": {},
     "output_type": "execute_result"
    }
   ],
   "source": [
    "translit_company_on_lat(df_new)\n",
    "df_new"
   ]
  },
  {
   "cell_type": "code",
   "execution_count": 20,
   "metadata": {},
   "outputs": [
    {
     "data": {
      "text/plain": [
       "name_1          goodyear \n",
       "name_2             repsol\n",
       "is_duplicate            0\n",
       "Name: 43399, dtype: object"
      ]
     },
     "execution_count": 20,
     "metadata": {},
     "output_type": "execute_result"
    }
   ],
   "source": [
    "df_new.iloc[43399]"
   ]
  },
  {
   "cell_type": "code",
   "execution_count": 21,
   "metadata": {},
   "outputs": [],
   "source": [
    "df_new.to_csv('../data/preprocess_train.csv', index=False)"
   ]
  },
  {
   "cell_type": "markdown",
   "metadata": {},
   "source": [
    "### Add new raw in data"
   ]
  },
  {
   "cell_type": "code",
   "execution_count": 3,
   "metadata": {},
   "outputs": [
    {
     "data": {
      "text/html": [
       "<div>\n",
       "<style scoped>\n",
       "    .dataframe tbody tr th:only-of-type {\n",
       "        vertical-align: middle;\n",
       "    }\n",
       "\n",
       "    .dataframe tbody tr th {\n",
       "        vertical-align: top;\n",
       "    }\n",
       "\n",
       "    .dataframe thead th {\n",
       "        text-align: right;\n",
       "    }\n",
       "</style>\n",
       "<table border=\"1\" class=\"dataframe\">\n",
       "  <thead>\n",
       "    <tr style=\"text-align: right;\">\n",
       "      <th></th>\n",
       "      <th>name_1</th>\n",
       "      <th>name_2</th>\n",
       "      <th>is_duplicate</th>\n",
       "    </tr>\n",
       "  </thead>\n",
       "  <tbody>\n",
       "    <tr>\n",
       "      <th>0</th>\n",
       "      <td>iko industries ltd.</td>\n",
       "      <td>enormous industrial trade pvt., ltd.</td>\n",
       "      <td>0</td>\n",
       "    </tr>\n",
       "    <tr>\n",
       "      <th>1</th>\n",
       "      <td>apcotex industries ltd.</td>\n",
       "      <td>technocraft industries (india) ltd.</td>\n",
       "      <td>0</td>\n",
       "    </tr>\n",
       "    <tr>\n",
       "      <th>2</th>\n",
       "      <td>rishichem distributors pvt., ltd.</td>\n",
       "      <td>dsa</td>\n",
       "      <td>0</td>\n",
       "    </tr>\n",
       "    <tr>\n",
       "      <th>3</th>\n",
       "      <td>powermax rubber factory</td>\n",
       "      <td>co. one</td>\n",
       "      <td>0</td>\n",
       "    </tr>\n",
       "    <tr>\n",
       "      <th>4</th>\n",
       "      <td>tress a/s</td>\n",
       "      <td>longyou industries park zhejiang</td>\n",
       "      <td>0</td>\n",
       "    </tr>\n",
       "  </tbody>\n",
       "</table>\n",
       "</div>"
      ],
      "text/plain": [
       "                              name_1                                name_2  \\\n",
       "0                iko industries ltd.  enormous industrial trade pvt., ltd.   \n",
       "1            apcotex industries ltd.   technocraft industries (india) ltd.   \n",
       "2  rishichem distributors pvt., ltd.                                   dsa   \n",
       "3            powermax rubber factory                               co. one   \n",
       "4                          tress a/s      longyou industries park zhejiang   \n",
       "\n",
       "   is_duplicate  \n",
       "0             0  \n",
       "1             0  \n",
       "2             0  \n",
       "3             0  \n",
       "4             0  "
      ]
     },
     "execution_count": 3,
     "metadata": {},
     "output_type": "execute_result"
    }
   ],
   "source": [
    "df = pd.read_csv('../data/preprocess_train.csv')\n",
    "df.head()"
   ]
  },
  {
   "cell_type": "code",
   "execution_count": 5,
   "metadata": {},
   "outputs": [],
   "source": [
    "df_true = df[df['is_duplicate']==1]"
   ]
  },
  {
   "cell_type": "code",
   "execution_count": 16,
   "metadata": {},
   "outputs": [
    {
     "data": {
      "text/plain": [
       "soprema sa                                                                                           39\n",
       "bridgestone india pvt ltd                                                                            34\n",
       "bridgestone ncr                                                                                      34\n",
       "bridgestone tire co                                                                                  34\n",
       "bridgestone india                                                                                    34\n",
       "                                                                                                     ..\n",
       "ooovertikal sport                                                                                     1\n",
       "deboer schoten                                                                                        1\n",
       "celanese operations mexico s de rl de cv                                                              1\n",
       "zeon kasei changshu coltd                                                                             1\n",
       "adams resources exploration corporation oil and gas assets in crocket and irion counties in texas     1\n",
       "Name: name_1, Length: 962, dtype: int64"
      ]
     },
     "execution_count": 16,
     "metadata": {},
     "output_type": "execute_result"
    }
   ],
   "source": [
    "df_true['name_1'].value_counts()"
   ]
  },
  {
   "cell_type": "code",
   "execution_count": 20,
   "metadata": {},
   "outputs": [],
   "source": [
    "df_true.reset_index(drop=True, inplace=True)"
   ]
  },
  {
   "cell_type": "code",
   "execution_count": 50,
   "metadata": {},
   "outputs": [],
   "source": [
    "matcher = NameMatcher(top_n=100,\n",
    "    lowercase=True,\n",
    "    punctuations=True,\n",
    "    remove_ascii=True,\n",
    "    legal_suffixes=False,\n",
    "    common_words=False,\n",
    "    verbose=True)\n",
    "\n",
    "matcher.set_distance_metrics(['discounted_levenshtein',\n",
    "                              'SSK',\n",
    "                              'fuzzy_wuzzy_token_sort'])"
   ]
  },
  {
   "cell_type": "code",
   "execution_count": 51,
   "metadata": {},
   "outputs": [
    {
     "name": "stderr",
     "output_type": "stream",
     "text": [
      "/home/mlandrey/PycharmProjects/ITMO/Name-matcher/.venv/lib/python3.8/site-packages/name_matching/name_matcher.py:663: SettingWithCopyWarning: \n",
      "A value is trying to be set on a copy of a slice from a DataFrame.\n",
      "Try using .loc[row_indexer,col_indexer] = value instead\n",
      "\n",
      "See the caveats in the documentation: https://pandas.pydata.org/pandas-docs/stable/user_guide/indexing.html#returning-a-view-versus-a-copy\n",
      "  df.loc[:, column_name] = df[column_name].astype(str)\n",
      "/home/mlandrey/PycharmProjects/ITMO/Name-matcher/.venv/lib/python3.8/site-packages/name_matching/name_matcher.py:665: SettingWithCopyWarning: \n",
      "A value is trying to be set on a copy of a slice from a DataFrame.\n",
      "Try using .loc[row_indexer,col_indexer] = value instead\n",
      "\n",
      "See the caveats in the documentation: https://pandas.pydata.org/pandas-docs/stable/user_guide/indexing.html#returning-a-view-versus-a-copy\n",
      "  df.loc[:, column_name] = df[column_name].str.lower()\n",
      "/home/mlandrey/PycharmProjects/ITMO/Name-matcher/.venv/lib/python3.8/site-packages/name_matching/name_matcher.py:667: SettingWithCopyWarning: \n",
      "A value is trying to be set on a copy of a slice from a DataFrame.\n",
      "Try using .loc[row_indexer,col_indexer] = value instead\n",
      "\n",
      "See the caveats in the documentation: https://pandas.pydata.org/pandas-docs/stable/user_guide/indexing.html#returning-a-view-versus-a-copy\n",
      "  df.loc[:, column_name] = df[column_name].str.replace(\n",
      "/home/mlandrey/PycharmProjects/ITMO/Name-matcher/.venv/lib/python3.8/site-packages/name_matching/name_matcher.py:669: SettingWithCopyWarning: \n",
      "A value is trying to be set on a copy of a slice from a DataFrame.\n",
      "Try using .loc[row_indexer,col_indexer] = value instead\n",
      "\n",
      "See the caveats in the documentation: https://pandas.pydata.org/pandas-docs/stable/user_guide/indexing.html#returning-a-view-versus-a-copy\n",
      "  df.loc[:, column_name] = df[column_name].str.replace(\n",
      "/home/mlandrey/PycharmProjects/ITMO/Name-matcher/.venv/lib/python3.8/site-packages/name_matching/name_matcher.py:672: SettingWithCopyWarning: \n",
      "A value is trying to be set on a copy of a slice from a DataFrame.\n",
      "Try using .loc[row_indexer,col_indexer] = value instead\n",
      "\n",
      "See the caveats in the documentation: https://pandas.pydata.org/pandas-docs/stable/user_guide/indexing.html#returning-a-view-versus-a-copy\n",
      "  df.loc[:, column_name] = df[column_name].apply(lambda string: unicodedata.normalize(\n"
     ]
    },
    {
     "name": "stdout",
     "output_type": "stream",
     "text": [
      "preprocessing...\n",
      "\n",
      "preprocessing complete \n",
      " searching for matches...\n",
      "\n"
     ]
    },
    {
     "name": "stderr",
     "output_type": "stream",
     "text": [
      "100%|███████████████████████████████████████████| 1/1 [00:00<00:00, 1389.76it/s]\n"
     ]
    },
    {
     "name": "stdout",
     "output_type": "stream",
     "text": [
      "possible matches found   \n",
      " fuzzy matching...\n",
      "\n"
     ]
    },
    {
     "name": "stderr",
     "output_type": "stream",
     "text": [
      "100%|█████████████████████████████████████████████| 1/1 [00:00<00:00, 24.62it/s]"
     ]
    },
    {
     "name": "stdout",
     "output_type": "stream",
     "text": [
      "done\n"
     ]
    },
    {
     "name": "stderr",
     "output_type": "stream",
     "text": [
      "\n"
     ]
    }
   ],
   "source": [
    "matcher.load_and_process_master_data('name_2', df_true)\n",
    "df_result = matcher.match_names(\n",
    "    to_be_matched=pd.DataFrame({'name_1': ['soprema sa']}), \n",
    "    column_matching='name_1'\n",
    ")"
   ]
  },
  {
   "cell_type": "code",
   "execution_count": 52,
   "metadata": {},
   "outputs": [
    {
     "data": {
      "text/plain": [
       "name_1                  jx nippon oil gas exploration brasil ltda\n",
       "name_2          jx nippon oil gas exploration technical servic...\n",
       "is_duplicate                                                    1\n",
       "Name: 0, dtype: object"
      ]
     },
     "execution_count": 52,
     "metadata": {},
     "output_type": "execute_result"
    }
   ],
   "source": [
    "df_true.iloc[0]"
   ]
  },
  {
   "cell_type": "code",
   "execution_count": 53,
   "metadata": {},
   "outputs": [
    {
     "data": {
      "text/html": [
       "<div>\n",
       "<style scoped>\n",
       "    .dataframe tbody tr th:only-of-type {\n",
       "        vertical-align: middle;\n",
       "    }\n",
       "\n",
       "    .dataframe tbody tr th {\n",
       "        vertical-align: top;\n",
       "    }\n",
       "\n",
       "    .dataframe thead th {\n",
       "        text-align: right;\n",
       "    }\n",
       "</style>\n",
       "<table border=\"1\" class=\"dataframe\">\n",
       "  <thead>\n",
       "    <tr style=\"text-align: right;\">\n",
       "      <th></th>\n",
       "      <th>original_name</th>\n",
       "      <th>match_name</th>\n",
       "      <th>score</th>\n",
       "      <th>match_index</th>\n",
       "    </tr>\n",
       "  </thead>\n",
       "  <tbody>\n",
       "    <tr>\n",
       "      <th>0</th>\n",
       "      <td>soprema sa</td>\n",
       "      <td>soprema sa</td>\n",
       "      <td>100.0</td>\n",
       "      <td>199.0</td>\n",
       "    </tr>\n",
       "  </tbody>\n",
       "</table>\n",
       "</div>"
      ],
      "text/plain": [
       "  original_name  match_name  score  match_index\n",
       "0    soprema sa  soprema sa  100.0        199.0"
      ]
     },
     "execution_count": 53,
     "metadata": {},
     "output_type": "execute_result"
    }
   ],
   "source": [
    "df_result"
   ]
  },
  {
   "cell_type": "code",
   "execution_count": 36,
   "metadata": {},
   "outputs": [
    {
     "data": {
      "image/png": "[encoded data removed]",
      "text/plain": [
       "<Figure size 640x480 with 1 Axes>"
      ]
     },
     "metadata": {},
     "output_type": "display_data"
    }
   ],
   "source": [
    "df_result['score'].hist();"
   ]
  },
  {
   "cell_type": "code",
   "execution_count": 37,
   "metadata": {},
   "outputs": [
    {
     "data": {
      "text/html": [
       "<div>\n",
       "<style scoped>\n",
       "    .dataframe tbody tr th:only-of-type {\n",
       "        vertical-align: middle;\n",
       "    }\n",
       "\n",
       "    .dataframe tbody tr th {\n",
       "        vertical-align: top;\n",
       "    }\n",
       "\n",
       "    .dataframe thead th {\n",
       "        text-align: right;\n",
       "    }\n",
       "</style>\n",
       "<table border=\"1\" class=\"dataframe\">\n",
       "  <thead>\n",
       "    <tr style=\"text-align: right;\">\n",
       "      <th></th>\n",
       "      <th>original_name</th>\n",
       "      <th>match_name</th>\n",
       "      <th>score</th>\n",
       "      <th>match_index</th>\n",
       "    </tr>\n",
       "  </thead>\n",
       "  <tbody>\n",
       "    <tr>\n",
       "      <th>0</th>\n",
       "      <td>jx nippon oil gas exploration brasil ltda</td>\n",
       "      <td>jx nippon oil gas exploration brasil ltda</td>\n",
       "      <td>100.0</td>\n",
       "      <td>868.0</td>\n",
       "    </tr>\n",
       "    <tr>\n",
       "      <th>1</th>\n",
       "      <td>pirelli neumaticos saic</td>\n",
       "      <td>pirelli neumaticos saic</td>\n",
       "      <td>100.0</td>\n",
       "      <td>110.0</td>\n",
       "    </tr>\n",
       "    <tr>\n",
       "      <th>2</th>\n",
       "      <td>brenntag australia pty ltd</td>\n",
       "      <td>brenntag australia pty ltd</td>\n",
       "      <td>100.0</td>\n",
       "      <td>584.0</td>\n",
       "    </tr>\n",
       "    <tr>\n",
       "      <th>3</th>\n",
       "      <td>paul bauder gmbh co kg bochum plant</td>\n",
       "      <td>paul bauder gmbh co kg bochum plant</td>\n",
       "      <td>100.0</td>\n",
       "      <td>1721.0</td>\n",
       "    </tr>\n",
       "    <tr>\n",
       "      <th>4</th>\n",
       "      <td>total ceska republika sro</td>\n",
       "      <td>total ceska republika sro</td>\n",
       "      <td>100.0</td>\n",
       "      <td>853.0</td>\n",
       "    </tr>\n",
       "    <tr>\n",
       "      <th>...</th>\n",
       "      <td>...</td>\n",
       "      <td>...</td>\n",
       "      <td>...</td>\n",
       "      <td>...</td>\n",
       "    </tr>\n",
       "    <tr>\n",
       "      <th>3652</th>\n",
       "      <td>bridgestone stargard sp zoo</td>\n",
       "      <td>bridgestone stargard sp zoo</td>\n",
       "      <td>100.0</td>\n",
       "      <td>46.0</td>\n",
       "    </tr>\n",
       "    <tr>\n",
       "      <th>3653</th>\n",
       "      <td>bridgestone huizhousynthetic rubber co ltd</td>\n",
       "      <td>bridgestone huizhousynthetic rubber co ltd</td>\n",
       "      <td>100.0</td>\n",
       "      <td>22.0</td>\n",
       "    </tr>\n",
       "    <tr>\n",
       "      <th>3655</th>\n",
       "      <td>brenntag peru sac</td>\n",
       "      <td>brenntag peru sac</td>\n",
       "      <td>100.0</td>\n",
       "      <td>47.0</td>\n",
       "    </tr>\n",
       "    <tr>\n",
       "      <th>3656</th>\n",
       "      <td>dow chemical international private ltd</td>\n",
       "      <td>dow chemical international private ltd</td>\n",
       "      <td>100.0</td>\n",
       "      <td>353.0</td>\n",
       "    </tr>\n",
       "    <tr>\n",
       "      <th>3657</th>\n",
       "      <td>bridgestone huizhousynthetic rubber co ltd</td>\n",
       "      <td>bridgestone huizhousynthetic rubber co ltd</td>\n",
       "      <td>100.0</td>\n",
       "      <td>22.0</td>\n",
       "    </tr>\n",
       "  </tbody>\n",
       "</table>\n",
       "<p>3241 rows × 4 columns</p>\n",
       "</div>"
      ],
      "text/plain": [
       "                                   original_name  \\\n",
       "0      jx nippon oil gas exploration brasil ltda   \n",
       "1                        pirelli neumaticos saic   \n",
       "2                     brenntag australia pty ltd   \n",
       "3            paul bauder gmbh co kg bochum plant   \n",
       "4                      total ceska republika sro   \n",
       "...                                          ...   \n",
       "3652                 bridgestone stargard sp zoo   \n",
       "3653  bridgestone huizhousynthetic rubber co ltd   \n",
       "3655                           brenntag peru sac   \n",
       "3656      dow chemical international private ltd   \n",
       "3657  bridgestone huizhousynthetic rubber co ltd   \n",
       "\n",
       "                                      match_name  score  match_index  \n",
       "0      jx nippon oil gas exploration brasil ltda  100.0        868.0  \n",
       "1                        pirelli neumaticos saic  100.0        110.0  \n",
       "2                     brenntag australia pty ltd  100.0        584.0  \n",
       "3            paul bauder gmbh co kg bochum plant  100.0       1721.0  \n",
       "4                      total ceska republika sro  100.0        853.0  \n",
       "...                                          ...    ...          ...  \n",
       "3652                 bridgestone stargard sp zoo  100.0         46.0  \n",
       "3653  bridgestone huizhousynthetic rubber co ltd  100.0         22.0  \n",
       "3655                           brenntag peru sac  100.0         47.0  \n",
       "3656      dow chemical international private ltd  100.0        353.0  \n",
       "3657  bridgestone huizhousynthetic rubber co ltd  100.0         22.0  \n",
       "\n",
       "[3241 rows x 4 columns]"
      ]
     },
     "execution_count": 37,
     "metadata": {},
     "output_type": "execute_result"
    }
   ],
   "source": [
    "df_result[df_result['score'] > 60]"
   ]
  },
  {
   "cell_type": "code",
   "execution_count": 30,
   "metadata": {},
   "outputs": [
    {
     "data": {
      "text/plain": [
       "name_1                                   brenntag peru sac\n",
       "name_2          brenntag chile comercial e industrial ltda\n",
       "is_duplicate                                             1\n",
       "Name: 3655, dtype: object"
      ]
     },
     "execution_count": 30,
     "metadata": {},
     "output_type": "execute_result"
    }
   ],
   "source": [
    "df_true.iloc[3655]"
   ]
  },
  {
   "cell_type": "code",
   "execution_count": 31,
   "metadata": {},
   "outputs": [
    {
     "data": {
      "text/plain": [
       "name_1          brenntag chile comercial e ind\n",
       "name_2                 brenntag vietnam co ltd\n",
       "is_duplicate                                 1\n",
       "Name: 484, dtype: object"
      ]
     },
     "execution_count": 31,
     "metadata": {},
     "output_type": "execute_result"
    }
   ],
   "source": [
    "df_true.iloc[484]"
   ]
  },
  {
   "cell_type": "markdown",
   "metadata": {},
   "source": [
    "### NLTK"
   ]
  },
  {
   "cell_type": "code",
   "execution_count": 57,
   "metadata": {},
   "outputs": [],
   "source": [
    "from nltk.tokenize import word_tokenize"
   ]
  },
  {
   "cell_type": "code",
   "execution_count": 58,
   "metadata": {},
   "outputs": [],
   "source": [
    "df_new = df.copy()"
   ]
  },
  {
   "cell_type": "code",
   "execution_count": 65,
   "metadata": {},
   "outputs": [
    {
     "data": {
      "text/html": [
       "<div>\n",
       "<style scoped>\n",
       "    .dataframe tbody tr th:only-of-type {\n",
       "        vertical-align: middle;\n",
       "    }\n",
       "\n",
       "    .dataframe tbody tr th {\n",
       "        vertical-align: top;\n",
       "    }\n",
       "\n",
       "    .dataframe thead th {\n",
       "        text-align: right;\n",
       "    }\n",
       "</style>\n",
       "<table border=\"1\" class=\"dataframe\">\n",
       "  <thead>\n",
       "    <tr style=\"text-align: right;\">\n",
       "      <th></th>\n",
       "      <th>name_1</th>\n",
       "      <th>name_2</th>\n",
       "      <th>is_duplicate</th>\n",
       "      <th>data</th>\n",
       "    </tr>\n",
       "  </thead>\n",
       "  <tbody>\n",
       "    <tr>\n",
       "      <th>0</th>\n",
       "      <td>iko industries ltd.</td>\n",
       "      <td>enormous industrial trade pvt., ltd.</td>\n",
       "      <td>0</td>\n",
       "      <td>original</td>\n",
       "    </tr>\n",
       "    <tr>\n",
       "      <th>1</th>\n",
       "      <td>apcotex industries ltd.</td>\n",
       "      <td>technocraft industries (india) ltd.</td>\n",
       "      <td>0</td>\n",
       "      <td>original</td>\n",
       "    </tr>\n",
       "    <tr>\n",
       "      <th>2</th>\n",
       "      <td>rishichem distributors pvt., ltd.</td>\n",
       "      <td>dsa</td>\n",
       "      <td>0</td>\n",
       "      <td>original</td>\n",
       "    </tr>\n",
       "    <tr>\n",
       "      <th>3</th>\n",
       "      <td>powermax rubber factory</td>\n",
       "      <td>co. one</td>\n",
       "      <td>0</td>\n",
       "      <td>original</td>\n",
       "    </tr>\n",
       "    <tr>\n",
       "      <th>4</th>\n",
       "      <td>tress a/s</td>\n",
       "      <td>longyou industries park zhejiang</td>\n",
       "      <td>0</td>\n",
       "      <td>original</td>\n",
       "    </tr>\n",
       "  </tbody>\n",
       "</table>\n",
       "</div>"
      ],
      "text/plain": [
       "                              name_1                                name_2  \\\n",
       "0                iko industries ltd.  enormous industrial trade pvt., ltd.   \n",
       "1            apcotex industries ltd.   technocraft industries (india) ltd.   \n",
       "2  rishichem distributors pvt., ltd.                                   dsa   \n",
       "3            powermax rubber factory                               co. one   \n",
       "4                          tress a/s      longyou industries park zhejiang   \n",
       "\n",
       "   is_duplicate      data  \n",
       "0             0  original  \n",
       "1             0  original  \n",
       "2             0  original  \n",
       "3             0  original  \n",
       "4             0  original  "
      ]
     },
     "execution_count": 65,
     "metadata": {},
     "output_type": "execute_result"
    }
   ],
   "source": [
    "df_result = df.copy()\n",
    "df_result['data'] = 'original'\n",
    "df_result.head()"
   ]
  },
  {
   "cell_type": "code",
   "execution_count": 60,
   "metadata": {},
   "outputs": [
    {
     "data": {
      "text/html": [
       "<div>\n",
       "<style scoped>\n",
       "    .dataframe tbody tr th:only-of-type {\n",
       "        vertical-align: middle;\n",
       "    }\n",
       "\n",
       "    .dataframe tbody tr th {\n",
       "        vertical-align: top;\n",
       "    }\n",
       "\n",
       "    .dataframe thead th {\n",
       "        text-align: right;\n",
       "    }\n",
       "</style>\n",
       "<table border=\"1\" class=\"dataframe\">\n",
       "  <thead>\n",
       "    <tr style=\"text-align: right;\">\n",
       "      <th></th>\n",
       "      <th>name_1</th>\n",
       "      <th>name_2</th>\n",
       "      <th>is_duplicate</th>\n",
       "      <th>n1_first_word</th>\n",
       "      <th>n2_first_word</th>\n",
       "    </tr>\n",
       "  </thead>\n",
       "  <tbody>\n",
       "    <tr>\n",
       "      <th>0</th>\n",
       "      <td>iko industries ltd.</td>\n",
       "      <td>enormous industrial trade pvt., ltd.</td>\n",
       "      <td>0</td>\n",
       "      <td>iko</td>\n",
       "      <td>enormous</td>\n",
       "    </tr>\n",
       "    <tr>\n",
       "      <th>1</th>\n",
       "      <td>apcotex industries ltd.</td>\n",
       "      <td>technocraft industries (india) ltd.</td>\n",
       "      <td>0</td>\n",
       "      <td>apcotex</td>\n",
       "      <td>technocraft</td>\n",
       "    </tr>\n",
       "    <tr>\n",
       "      <th>2</th>\n",
       "      <td>rishichem distributors pvt., ltd.</td>\n",
       "      <td>dsa</td>\n",
       "      <td>0</td>\n",
       "      <td>rishichem</td>\n",
       "      <td>dsa</td>\n",
       "    </tr>\n",
       "    <tr>\n",
       "      <th>3</th>\n",
       "      <td>powermax rubber factory</td>\n",
       "      <td>co. one</td>\n",
       "      <td>0</td>\n",
       "      <td>powermax</td>\n",
       "      <td>co.</td>\n",
       "    </tr>\n",
       "    <tr>\n",
       "      <th>4</th>\n",
       "      <td>tress a/s</td>\n",
       "      <td>longyou industries park zhejiang</td>\n",
       "      <td>0</td>\n",
       "      <td>tress</td>\n",
       "      <td>longyou</td>\n",
       "    </tr>\n",
       "    <tr>\n",
       "      <th>...</th>\n",
       "      <td>...</td>\n",
       "      <td>...</td>\n",
       "      <td>...</td>\n",
       "      <td>...</td>\n",
       "      <td>...</td>\n",
       "    </tr>\n",
       "    <tr>\n",
       "      <th>497814</th>\n",
       "      <td>bit-mat products</td>\n",
       "      <td>the goodyear tire and rubber company</td>\n",
       "      <td>0</td>\n",
       "      <td>bit-mat</td>\n",
       "      <td>the</td>\n",
       "    </tr>\n",
       "    <tr>\n",
       "      <th>497815</th>\n",
       "      <td>bnd trading co., ltd.</td>\n",
       "      <td>zhong shan yue liang economy&amp; trade imp. &amp; exp...</td>\n",
       "      <td>0</td>\n",
       "      <td>bnd</td>\n",
       "      <td>zhong</td>\n",
       "    </tr>\n",
       "    <tr>\n",
       "      <th>497816</th>\n",
       "      <td>xeikon industrial co., ltd. of dongguan city</td>\n",
       "      <td>yi cheng trading co., ltd. of dongguan city</td>\n",
       "      <td>0</td>\n",
       "      <td>xeikon</td>\n",
       "      <td>yi</td>\n",
       "    </tr>\n",
       "    <tr>\n",
       "      <th>497817</th>\n",
       "      <td>shanghai kechuan trading co., ltd.</td>\n",
       "      <td>shanghai m&amp;g stationery inc.</td>\n",
       "      <td>0</td>\n",
       "      <td>shanghai</td>\n",
       "      <td>shanghai</td>\n",
       "    </tr>\n",
       "    <tr>\n",
       "      <th>497818</th>\n",
       "      <td>dih wei industries co.</td>\n",
       "      <td>burlington industries corporate</td>\n",
       "      <td>0</td>\n",
       "      <td>dih</td>\n",
       "      <td>burlington</td>\n",
       "    </tr>\n",
       "  </tbody>\n",
       "</table>\n",
       "<p>497819 rows × 5 columns</p>\n",
       "</div>"
      ],
      "text/plain": [
       "                                              name_1  \\\n",
       "0                                iko industries ltd.   \n",
       "1                            apcotex industries ltd.   \n",
       "2                  rishichem distributors pvt., ltd.   \n",
       "3                            powermax rubber factory   \n",
       "4                                          tress a/s   \n",
       "...                                              ...   \n",
       "497814                              bit-mat products   \n",
       "497815                         bnd trading co., ltd.   \n",
       "497816  xeikon industrial co., ltd. of dongguan city   \n",
       "497817            shanghai kechuan trading co., ltd.   \n",
       "497818                        dih wei industries co.   \n",
       "\n",
       "                                                   name_2  is_duplicate  \\\n",
       "0                    enormous industrial trade pvt., ltd.             0   \n",
       "1                     technocraft industries (india) ltd.             0   \n",
       "2                                                     dsa             0   \n",
       "3                                                 co. one             0   \n",
       "4                        longyou industries park zhejiang             0   \n",
       "...                                                   ...           ...   \n",
       "497814               the goodyear tire and rubber company             0   \n",
       "497815  zhong shan yue liang economy& trade imp. & exp...             0   \n",
       "497816        yi cheng trading co., ltd. of dongguan city             0   \n",
       "497817                       shanghai m&g stationery inc.             0   \n",
       "497818                    burlington industries corporate             0   \n",
       "\n",
       "       n1_first_word n2_first_word  \n",
       "0                iko      enormous  \n",
       "1            apcotex   technocraft  \n",
       "2          rishichem           dsa  \n",
       "3           powermax           co.  \n",
       "4              tress       longyou  \n",
       "...              ...           ...  \n",
       "497814       bit-mat           the  \n",
       "497815           bnd         zhong  \n",
       "497816        xeikon            yi  \n",
       "497817      shanghai      shanghai  \n",
       "497818           dih    burlington  \n",
       "\n",
       "[497819 rows x 5 columns]"
      ]
     },
     "execution_count": 60,
     "metadata": {},
     "output_type": "execute_result"
    }
   ],
   "source": [
    "df_new['n1_first_word'] = [word_tokenize(comp)[0] for comp in df_new['name_1']]\n",
    "df_new['n2_first_word'] = [word_tokenize(comp)[0] for comp in df_new['name_2']]\n",
    "df_new"
   ]
  },
  {
   "cell_type": "code",
   "execution_count": 62,
   "metadata": {},
   "outputs": [
    {
     "data": {
      "text/html": [
       "<div>\n",
       "<style scoped>\n",
       "    .dataframe tbody tr th:only-of-type {\n",
       "        vertical-align: middle;\n",
       "    }\n",
       "\n",
       "    .dataframe tbody tr th {\n",
       "        vertical-align: top;\n",
       "    }\n",
       "\n",
       "    .dataframe thead th {\n",
       "        text-align: right;\n",
       "    }\n",
       "</style>\n",
       "<table border=\"1\" class=\"dataframe\">\n",
       "  <thead>\n",
       "    <tr style=\"text-align: right;\">\n",
       "      <th></th>\n",
       "      <th>name_1</th>\n",
       "      <th>name_2</th>\n",
       "      <th>is_duplicate</th>\n",
       "      <th>n1_first_word</th>\n",
       "      <th>n2_first_word</th>\n",
       "    </tr>\n",
       "  </thead>\n",
       "  <tbody>\n",
       "    <tr>\n",
       "      <th>11004</th>\n",
       "      <td>bnd trading co., ltd.</td>\n",
       "      <td>taraki s.a.s.</td>\n",
       "      <td>0</td>\n",
       "      <td>bnd</td>\n",
       "      <td>taraki</td>\n",
       "    </tr>\n",
       "    <tr>\n",
       "      <th>13345</th>\n",
       "      <td>bnd trading co., ltd.</td>\n",
       "      <td>al misbah al jadeed trading llc</td>\n",
       "      <td>0</td>\n",
       "      <td>bnd</td>\n",
       "      <td>al</td>\n",
       "    </tr>\n",
       "    <tr>\n",
       "      <th>18884</th>\n",
       "      <td>bnd trading co., ltd.</td>\n",
       "      <td>hangers trading sociedad anonima cerrada</td>\n",
       "      <td>0</td>\n",
       "      <td>bnd</td>\n",
       "      <td>hangers</td>\n",
       "    </tr>\n",
       "    <tr>\n",
       "      <th>33347</th>\n",
       "      <td>bnd trading co., ltd.</td>\n",
       "      <td>impy exp. rehman trading ltda</td>\n",
       "      <td>0</td>\n",
       "      <td>bnd</td>\n",
       "      <td>impy</td>\n",
       "    </tr>\n",
       "    <tr>\n",
       "      <th>35442</th>\n",
       "      <td>bnd trading co., ltd.</td>\n",
       "      <td>jmk international goodstrading center</td>\n",
       "      <td>0</td>\n",
       "      <td>bnd</td>\n",
       "      <td>jmk</td>\n",
       "    </tr>\n",
       "    <tr>\n",
       "      <th>...</th>\n",
       "      <td>...</td>\n",
       "      <td>...</td>\n",
       "      <td>...</td>\n",
       "      <td>...</td>\n",
       "      <td>...</td>\n",
       "    </tr>\n",
       "    <tr>\n",
       "      <th>487527</th>\n",
       "      <td>bnd trading co., ltd.</td>\n",
       "      <td>kisco trading india pvt., ltd.</td>\n",
       "      <td>0</td>\n",
       "      <td>bnd</td>\n",
       "      <td>kisco</td>\n",
       "    </tr>\n",
       "    <tr>\n",
       "      <th>493871</th>\n",
       "      <td>bnd trading co., ltd.</td>\n",
       "      <td>eazy trading inc.</td>\n",
       "      <td>0</td>\n",
       "      <td>bnd</td>\n",
       "      <td>eazy</td>\n",
       "    </tr>\n",
       "    <tr>\n",
       "      <th>493962</th>\n",
       "      <td>bnd trading co., ltd.</td>\n",
       "      <td>crystal (shanghai) international trading co., ...</td>\n",
       "      <td>0</td>\n",
       "      <td>bnd</td>\n",
       "      <td>crystal</td>\n",
       "    </tr>\n",
       "    <tr>\n",
       "      <th>496164</th>\n",
       "      <td>bnd trading co., ltd.</td>\n",
       "      <td>shoe palace trading</td>\n",
       "      <td>0</td>\n",
       "      <td>bnd</td>\n",
       "      <td>shoe</td>\n",
       "    </tr>\n",
       "    <tr>\n",
       "      <th>497815</th>\n",
       "      <td>bnd trading co., ltd.</td>\n",
       "      <td>zhong shan yue liang economy&amp; trade imp. &amp; exp...</td>\n",
       "      <td>0</td>\n",
       "      <td>bnd</td>\n",
       "      <td>zhong</td>\n",
       "    </tr>\n",
       "  </tbody>\n",
       "</table>\n",
       "<p>112 rows × 5 columns</p>\n",
       "</div>"
      ],
      "text/plain": [
       "                       name_1  \\\n",
       "11004   bnd trading co., ltd.   \n",
       "13345   bnd trading co., ltd.   \n",
       "18884   bnd trading co., ltd.   \n",
       "33347   bnd trading co., ltd.   \n",
       "35442   bnd trading co., ltd.   \n",
       "...                       ...   \n",
       "487527  bnd trading co., ltd.   \n",
       "493871  bnd trading co., ltd.   \n",
       "493962  bnd trading co., ltd.   \n",
       "496164  bnd trading co., ltd.   \n",
       "497815  bnd trading co., ltd.   \n",
       "\n",
       "                                                   name_2  is_duplicate  \\\n",
       "11004                                       taraki s.a.s.             0   \n",
       "13345                     al misbah al jadeed trading llc             0   \n",
       "18884            hangers trading sociedad anonima cerrada             0   \n",
       "33347                       impy exp. rehman trading ltda             0   \n",
       "35442               jmk international goodstrading center             0   \n",
       "...                                                   ...           ...   \n",
       "487527                     kisco trading india pvt., ltd.             0   \n",
       "493871                                  eazy trading inc.             0   \n",
       "493962  crystal (shanghai) international trading co., ...             0   \n",
       "496164                                shoe palace trading             0   \n",
       "497815  zhong shan yue liang economy& trade imp. & exp...             0   \n",
       "\n",
       "       n1_first_word n2_first_word  \n",
       "11004            bnd        taraki  \n",
       "13345            bnd            al  \n",
       "18884            bnd       hangers  \n",
       "33347            bnd          impy  \n",
       "35442            bnd           jmk  \n",
       "...              ...           ...  \n",
       "487527           bnd         kisco  \n",
       "493871           bnd          eazy  \n",
       "493962           bnd       crystal  \n",
       "496164           bnd          shoe  \n",
       "497815           bnd         zhong  \n",
       "\n",
       "[112 rows x 5 columns]"
      ]
     },
     "execution_count": 62,
     "metadata": {},
     "output_type": "execute_result"
    }
   ],
   "source": [
    "df_new[df_new['n1_first_word']=='bnd']"
   ]
  },
  {
   "cell_type": "code",
   "execution_count": 67,
   "metadata": {},
   "outputs": [
    {
     "data": {
      "application/vnd.jupyter.widget-view+json": {
       "model_id": "f026306a9dda42e39184efd729281479",
       "version_major": 2,
       "version_minor": 0
      },
      "text/plain": [
       "  0%|          | 0/497819 [00:00<?, ?it/s]"
      ]
     },
     "metadata": {},
     "output_type": "display_data"
    },
    {
     "ename": "KeyboardInterrupt",
     "evalue": "",
     "output_type": "error",
     "traceback": [
      "\u001B[0;31m---------------------------------------------------------------------------\u001B[0m",
      "\u001B[0;31mKeyboardInterrupt\u001B[0m                         Traceback (most recent call last)",
      "Cell \u001B[0;32mIn [67], line 7\u001B[0m\n\u001B[1;32m      5\u001B[0m df_curr_n11 \u001B[38;5;241m=\u001B[39m df_curr[df_curr[\u001B[38;5;124m'\u001B[39m\u001B[38;5;124mn1_first_word\u001B[39m\u001B[38;5;124m'\u001B[39m] \u001B[38;5;241m==\u001B[39m n1_word]\n\u001B[1;32m      6\u001B[0m df_curr_n11 \u001B[38;5;241m=\u001B[39m df_curr_n11[df_curr_n11[\u001B[38;5;124m'\u001B[39m\u001B[38;5;124mname_1\u001B[39m\u001B[38;5;124m'\u001B[39m] \u001B[38;5;241m!=\u001B[39m df_new[\u001B[38;5;124m'\u001B[39m\u001B[38;5;124mname_1\u001B[39m\u001B[38;5;124m'\u001B[39m]\u001B[38;5;241m.\u001B[39miloc[idx]]\n\u001B[0;32m----> 7\u001B[0m df_result \u001B[38;5;241m=\u001B[39m \u001B[43mpd\u001B[49m\u001B[38;5;241;43m.\u001B[39;49m\u001B[43mconcat\u001B[49m\u001B[43m(\u001B[49m\n\u001B[1;32m      8\u001B[0m \u001B[43m    \u001B[49m\u001B[43m[\u001B[49m\u001B[43m            \u001B[49m\n\u001B[1;32m      9\u001B[0m \u001B[43m        \u001B[49m\u001B[43mdf_result\u001B[49m\u001B[43m,\u001B[49m\n\u001B[1;32m     10\u001B[0m \u001B[43m        \u001B[49m\u001B[43mpd\u001B[49m\u001B[38;5;241;43m.\u001B[39;49m\u001B[43mDataFrame\u001B[49m\u001B[43m(\u001B[49m\n\u001B[1;32m     11\u001B[0m \u001B[43m            \u001B[49m\u001B[43m{\u001B[49m\n\u001B[1;32m     12\u001B[0m \u001B[43m                \u001B[49m\u001B[38;5;124;43m'\u001B[39;49m\u001B[38;5;124;43mname_1\u001B[39;49m\u001B[38;5;124;43m'\u001B[39;49m\u001B[43m:\u001B[49m\u001B[43m \u001B[49m\u001B[43m[\u001B[49m\u001B[43mdf_new\u001B[49m\u001B[43m[\u001B[49m\u001B[38;5;124;43m'\u001B[39;49m\u001B[38;5;124;43mname_1\u001B[39;49m\u001B[38;5;124;43m'\u001B[39;49m\u001B[43m]\u001B[49m\u001B[38;5;241;43m.\u001B[39;49m\u001B[43miloc\u001B[49m\u001B[43m[\u001B[49m\u001B[43midx\u001B[49m\u001B[43m]\u001B[49m\u001B[43m \u001B[49m\u001B[38;5;28;43;01mfor\u001B[39;49;00m\u001B[43m \u001B[49m\u001B[43m_\u001B[49m\u001B[43m \u001B[49m\u001B[38;5;129;43;01min\u001B[39;49;00m\u001B[43m \u001B[49m\u001B[38;5;28;43mrange\u001B[39;49m\u001B[43m(\u001B[49m\u001B[43mdf_curr_n11\u001B[49m\u001B[38;5;241;43m.\u001B[39;49m\u001B[43mshape\u001B[49m\u001B[43m[\u001B[49m\u001B[38;5;241;43m0\u001B[39;49m\u001B[43m]\u001B[49m\u001B[43m)\u001B[49m\u001B[43m]\u001B[49m\u001B[43m,\u001B[49m\n\u001B[1;32m     13\u001B[0m \u001B[43m                \u001B[49m\u001B[38;5;124;43m'\u001B[39;49m\u001B[38;5;124;43mname_2\u001B[39;49m\u001B[38;5;124;43m'\u001B[39;49m\u001B[43m:\u001B[49m\u001B[43m \u001B[49m\u001B[43mdf_curr_n11\u001B[49m\u001B[43m[\u001B[49m\u001B[38;5;124;43m'\u001B[39;49m\u001B[38;5;124;43mname_1\u001B[39;49m\u001B[38;5;124;43m'\u001B[39;49m\u001B[43m]\u001B[49m\u001B[38;5;241;43m.\u001B[39;49m\u001B[43mtolist\u001B[49m\u001B[43m(\u001B[49m\u001B[43m)\u001B[49m\u001B[43m,\u001B[49m\n\u001B[1;32m     14\u001B[0m \u001B[43m                \u001B[49m\u001B[38;5;124;43m'\u001B[39;49m\u001B[38;5;124;43mis_duplicate\u001B[39;49m\u001B[38;5;124;43m'\u001B[39;49m\u001B[43m:\u001B[49m\u001B[43m \u001B[49m\u001B[43m[\u001B[49m\u001B[38;5;241;43m1\u001B[39;49m\u001B[43m \u001B[49m\u001B[38;5;28;43;01mfor\u001B[39;49;00m\u001B[43m \u001B[49m\u001B[43m_\u001B[49m\u001B[43m \u001B[49m\u001B[38;5;129;43;01min\u001B[39;49;00m\u001B[43m \u001B[49m\u001B[38;5;28;43mrange\u001B[39;49m\u001B[43m(\u001B[49m\u001B[43mdf_curr_n11\u001B[49m\u001B[38;5;241;43m.\u001B[39;49m\u001B[43mshape\u001B[49m\u001B[43m[\u001B[49m\u001B[38;5;241;43m0\u001B[39;49m\u001B[43m]\u001B[49m\u001B[43m)\u001B[49m\u001B[43m]\u001B[49m\u001B[43m,\u001B[49m\n\u001B[1;32m     15\u001B[0m \u001B[43m                \u001B[49m\u001B[38;5;124;43m'\u001B[39;49m\u001B[38;5;124;43mdata\u001B[39;49m\u001B[38;5;124;43m'\u001B[39;49m\u001B[43m:\u001B[49m\u001B[43m \u001B[49m\u001B[43m[\u001B[49m\u001B[38;5;124;43m'\u001B[39;49m\u001B[38;5;124;43mn11\u001B[39;49m\u001B[38;5;124;43m'\u001B[39;49m\u001B[43m \u001B[49m\u001B[38;5;28;43;01mfor\u001B[39;49;00m\u001B[43m \u001B[49m\u001B[43m_\u001B[49m\u001B[43m \u001B[49m\u001B[38;5;129;43;01min\u001B[39;49;00m\u001B[43m \u001B[49m\u001B[38;5;28;43mrange\u001B[39;49m\u001B[43m(\u001B[49m\u001B[43mdf_curr_n11\u001B[49m\u001B[38;5;241;43m.\u001B[39;49m\u001B[43mshape\u001B[49m\u001B[43m[\u001B[49m\u001B[38;5;241;43m0\u001B[39;49m\u001B[43m]\u001B[49m\u001B[43m)\u001B[49m\u001B[43m]\u001B[49m\n\u001B[1;32m     16\u001B[0m \u001B[43m            \u001B[49m\u001B[43m}\u001B[49m\n\u001B[1;32m     17\u001B[0m \u001B[43m        \u001B[49m\u001B[43m)\u001B[49m\n\u001B[1;32m     18\u001B[0m \u001B[43m    \u001B[49m\u001B[43m]\u001B[49m\n\u001B[1;32m     19\u001B[0m \u001B[43m\u001B[49m\u001B[43m)\u001B[49m\n\u001B[1;32m     21\u001B[0m df_curr_n12 \u001B[38;5;241m=\u001B[39m df_curr[df_curr[\u001B[38;5;124m'\u001B[39m\u001B[38;5;124mn2_first_word\u001B[39m\u001B[38;5;124m'\u001B[39m] \u001B[38;5;241m==\u001B[39m n1_word]\n\u001B[1;32m     22\u001B[0m df_curr_n12 \u001B[38;5;241m=\u001B[39m df_curr_n12[df_curr_n12[\u001B[38;5;124m'\u001B[39m\u001B[38;5;124mname_2\u001B[39m\u001B[38;5;124m'\u001B[39m] \u001B[38;5;241m!=\u001B[39m df_new[\u001B[38;5;124m'\u001B[39m\u001B[38;5;124mname_1\u001B[39m\u001B[38;5;124m'\u001B[39m]\u001B[38;5;241m.\u001B[39miloc[idx]]\n",
      "File \u001B[0;32m~/PycharmProjects/ITMO/Name-matcher/.venv/lib/python3.8/site-packages/pandas/util/_decorators.py:317\u001B[0m, in \u001B[0;36mdeprecate_nonkeyword_arguments.<locals>.decorate.<locals>.wrapper\u001B[0;34m(*args, **kwargs)\u001B[0m\n\u001B[1;32m    311\u001B[0m \u001B[38;5;28;01mif\u001B[39;00m \u001B[38;5;28mlen\u001B[39m(args) \u001B[38;5;241m>\u001B[39m num_allow_args:\n\u001B[1;32m    312\u001B[0m     warnings\u001B[38;5;241m.\u001B[39mwarn(\n\u001B[1;32m    313\u001B[0m         msg\u001B[38;5;241m.\u001B[39mformat(arguments\u001B[38;5;241m=\u001B[39marguments),\n\u001B[1;32m    314\u001B[0m         \u001B[38;5;167;01mFutureWarning\u001B[39;00m,\n\u001B[1;32m    315\u001B[0m         stacklevel\u001B[38;5;241m=\u001B[39mfind_stack_level(inspect\u001B[38;5;241m.\u001B[39mcurrentframe()),\n\u001B[1;32m    316\u001B[0m     )\n\u001B[0;32m--> 317\u001B[0m \u001B[38;5;28;01mreturn\u001B[39;00m \u001B[43mfunc\u001B[49m\u001B[43m(\u001B[49m\u001B[38;5;241;43m*\u001B[39;49m\u001B[43margs\u001B[49m\u001B[43m,\u001B[49m\u001B[43m \u001B[49m\u001B[38;5;241;43m*\u001B[39;49m\u001B[38;5;241;43m*\u001B[39;49m\u001B[43mkwargs\u001B[49m\u001B[43m)\u001B[49m\n",
      "File \u001B[0;32m~/PycharmProjects/ITMO/Name-matcher/.venv/lib/python3.8/site-packages/pandas/core/reshape/concat.py:382\u001B[0m, in \u001B[0;36mconcat\u001B[0;34m(objs, axis, join, ignore_index, keys, levels, names, verify_integrity, sort, copy)\u001B[0m\n\u001B[1;32m    160\u001B[0m \u001B[38;5;124;03m\"\"\"\u001B[39;00m\n\u001B[1;32m    161\u001B[0m \u001B[38;5;124;03mConcatenate pandas objects along a particular axis.\u001B[39;00m\n\u001B[1;32m    162\u001B[0m \n\u001B[0;32m   (...)\u001B[0m\n\u001B[1;32m    367\u001B[0m \u001B[38;5;124;03m1   3   4\u001B[39;00m\n\u001B[1;32m    368\u001B[0m \u001B[38;5;124;03m\"\"\"\u001B[39;00m\n\u001B[1;32m    369\u001B[0m op \u001B[38;5;241m=\u001B[39m _Concatenator(\n\u001B[1;32m    370\u001B[0m     objs,\n\u001B[1;32m    371\u001B[0m     axis\u001B[38;5;241m=\u001B[39maxis,\n\u001B[0;32m   (...)\u001B[0m\n\u001B[1;32m    379\u001B[0m     sort\u001B[38;5;241m=\u001B[39msort,\n\u001B[1;32m    380\u001B[0m )\n\u001B[0;32m--> 382\u001B[0m \u001B[38;5;28;01mreturn\u001B[39;00m \u001B[43mop\u001B[49m\u001B[38;5;241;43m.\u001B[39;49m\u001B[43mget_result\u001B[49m\u001B[43m(\u001B[49m\u001B[43m)\u001B[49m\n",
      "File \u001B[0;32m~/PycharmProjects/ITMO/Name-matcher/.venv/lib/python3.8/site-packages/pandas/core/reshape/concat.py:617\u001B[0m, in \u001B[0;36m_Concatenator.get_result\u001B[0;34m(self)\u001B[0m\n\u001B[1;32m    613\u001B[0m             indexers[ax] \u001B[38;5;241m=\u001B[39m obj_labels\u001B[38;5;241m.\u001B[39mget_indexer(new_labels)\n\u001B[1;32m    615\u001B[0m     mgrs_indexers\u001B[38;5;241m.\u001B[39mappend((obj\u001B[38;5;241m.\u001B[39m_mgr, indexers))\n\u001B[0;32m--> 617\u001B[0m new_data \u001B[38;5;241m=\u001B[39m \u001B[43mconcatenate_managers\u001B[49m\u001B[43m(\u001B[49m\n\u001B[1;32m    618\u001B[0m \u001B[43m    \u001B[49m\u001B[43mmgrs_indexers\u001B[49m\u001B[43m,\u001B[49m\u001B[43m \u001B[49m\u001B[38;5;28;43mself\u001B[39;49m\u001B[38;5;241;43m.\u001B[39;49m\u001B[43mnew_axes\u001B[49m\u001B[43m,\u001B[49m\u001B[43m \u001B[49m\u001B[43mconcat_axis\u001B[49m\u001B[38;5;241;43m=\u001B[39;49m\u001B[38;5;28;43mself\u001B[39;49m\u001B[38;5;241;43m.\u001B[39;49m\u001B[43mbm_axis\u001B[49m\u001B[43m,\u001B[49m\u001B[43m \u001B[49m\u001B[43mcopy\u001B[49m\u001B[38;5;241;43m=\u001B[39;49m\u001B[38;5;28;43mself\u001B[39;49m\u001B[38;5;241;43m.\u001B[39;49m\u001B[43mcopy\u001B[49m\n\u001B[1;32m    619\u001B[0m \u001B[43m\u001B[49m\u001B[43m)\u001B[49m\n\u001B[1;32m    620\u001B[0m \u001B[38;5;28;01mif\u001B[39;00m \u001B[38;5;129;01mnot\u001B[39;00m \u001B[38;5;28mself\u001B[39m\u001B[38;5;241m.\u001B[39mcopy:\n\u001B[1;32m    621\u001B[0m     new_data\u001B[38;5;241m.\u001B[39m_consolidate_inplace()\n",
      "File \u001B[0;32m~/PycharmProjects/ITMO/Name-matcher/.venv/lib/python3.8/site-packages/pandas/core/internals/concat.py:233\u001B[0m, in \u001B[0;36mconcatenate_managers\u001B[0;34m(mgrs_indexers, axes, concat_axis, copy)\u001B[0m\n\u001B[1;32m    231\u001B[0m     fastpath \u001B[38;5;241m=\u001B[39m blk\u001B[38;5;241m.\u001B[39mvalues\u001B[38;5;241m.\u001B[39mdtype \u001B[38;5;241m==\u001B[39m values\u001B[38;5;241m.\u001B[39mdtype\n\u001B[1;32m    232\u001B[0m \u001B[38;5;28;01melse\u001B[39;00m:\n\u001B[0;32m--> 233\u001B[0m     values \u001B[38;5;241m=\u001B[39m \u001B[43m_concatenate_join_units\u001B[49m\u001B[43m(\u001B[49m\u001B[43mjoin_units\u001B[49m\u001B[43m,\u001B[49m\u001B[43m \u001B[49m\u001B[43mconcat_axis\u001B[49m\u001B[43m,\u001B[49m\u001B[43m \u001B[49m\u001B[43mcopy\u001B[49m\u001B[38;5;241;43m=\u001B[39;49m\u001B[43mcopy\u001B[49m\u001B[43m)\u001B[49m\n\u001B[1;32m    234\u001B[0m     fastpath \u001B[38;5;241m=\u001B[39m \u001B[38;5;28;01mFalse\u001B[39;00m\n\u001B[1;32m    236\u001B[0m \u001B[38;5;28;01mif\u001B[39;00m fastpath:\n",
      "File \u001B[0;32m~/PycharmProjects/ITMO/Name-matcher/.venv/lib/python3.8/site-packages/pandas/core/internals/concat.py:577\u001B[0m, in \u001B[0;36m_concatenate_join_units\u001B[0;34m(join_units, concat_axis, copy)\u001B[0m\n\u001B[1;32m    574\u001B[0m     concat_values \u001B[38;5;241m=\u001B[39m ensure_block_shape(concat_values, \u001B[38;5;241m2\u001B[39m)\n\u001B[1;32m    576\u001B[0m \u001B[38;5;28;01melse\u001B[39;00m:\n\u001B[0;32m--> 577\u001B[0m     concat_values \u001B[38;5;241m=\u001B[39m \u001B[43mconcat_compat\u001B[49m\u001B[43m(\u001B[49m\u001B[43mto_concat\u001B[49m\u001B[43m,\u001B[49m\u001B[43m \u001B[49m\u001B[43maxis\u001B[49m\u001B[38;5;241;43m=\u001B[39;49m\u001B[43mconcat_axis\u001B[49m\u001B[43m)\u001B[49m\n\u001B[1;32m    579\u001B[0m \u001B[38;5;28;01mreturn\u001B[39;00m concat_values\n",
      "File \u001B[0;32m~/PycharmProjects/ITMO/Name-matcher/.venv/lib/python3.8/site-packages/pandas/core/dtypes/concat.py:152\u001B[0m, in \u001B[0;36mconcat_compat\u001B[0;34m(to_concat, axis, ea_compat_axis)\u001B[0m\n\u001B[1;32m    149\u001B[0m             to_concat \u001B[38;5;241m=\u001B[39m [x\u001B[38;5;241m.\u001B[39mastype(\u001B[38;5;124m\"\u001B[39m\u001B[38;5;124mobject\u001B[39m\u001B[38;5;124m\"\u001B[39m) \u001B[38;5;28;01mfor\u001B[39;00m x \u001B[38;5;129;01min\u001B[39;00m to_concat]\n\u001B[1;32m    150\u001B[0m             kinds \u001B[38;5;241m=\u001B[39m {\u001B[38;5;124m\"\u001B[39m\u001B[38;5;124mo\u001B[39m\u001B[38;5;124m\"\u001B[39m}\n\u001B[0;32m--> 152\u001B[0m result \u001B[38;5;241m=\u001B[39m \u001B[43mnp\u001B[49m\u001B[38;5;241;43m.\u001B[39;49m\u001B[43mconcatenate\u001B[49m\u001B[43m(\u001B[49m\u001B[43mto_concat\u001B[49m\u001B[43m,\u001B[49m\u001B[43m \u001B[49m\u001B[43maxis\u001B[49m\u001B[38;5;241;43m=\u001B[39;49m\u001B[43maxis\u001B[49m\u001B[43m)\u001B[49m\n\u001B[1;32m    153\u001B[0m \u001B[38;5;28;01mif\u001B[39;00m \u001B[38;5;124m\"\u001B[39m\u001B[38;5;124mb\u001B[39m\u001B[38;5;124m\"\u001B[39m \u001B[38;5;129;01min\u001B[39;00m kinds \u001B[38;5;129;01mand\u001B[39;00m result\u001B[38;5;241m.\u001B[39mdtype\u001B[38;5;241m.\u001B[39mkind \u001B[38;5;129;01min\u001B[39;00m [\u001B[38;5;124m\"\u001B[39m\u001B[38;5;124mi\u001B[39m\u001B[38;5;124m\"\u001B[39m, \u001B[38;5;124m\"\u001B[39m\u001B[38;5;124mu\u001B[39m\u001B[38;5;124m\"\u001B[39m, \u001B[38;5;124m\"\u001B[39m\u001B[38;5;124mf\u001B[39m\u001B[38;5;124m\"\u001B[39m]:\n\u001B[1;32m    154\u001B[0m     \u001B[38;5;66;03m# GH#39817\u001B[39;00m\n\u001B[1;32m    155\u001B[0m     warnings\u001B[38;5;241m.\u001B[39mwarn(\n\u001B[1;32m    156\u001B[0m         \u001B[38;5;124m\"\u001B[39m\u001B[38;5;124mBehavior when concatenating bool-dtype and numeric-dtype arrays is \u001B[39m\u001B[38;5;124m\"\u001B[39m\n\u001B[1;32m    157\u001B[0m         \u001B[38;5;124m\"\u001B[39m\u001B[38;5;124mdeprecated; in a future version these will cast to object dtype \u001B[39m\u001B[38;5;124m\"\u001B[39m\n\u001B[0;32m   (...)\u001B[0m\n\u001B[1;32m    161\u001B[0m         stacklevel\u001B[38;5;241m=\u001B[39mfind_stack_level(inspect\u001B[38;5;241m.\u001B[39mcurrentframe()),\n\u001B[1;32m    162\u001B[0m     )\n",
      "File \u001B[0;32m<__array_function__ internals>:180\u001B[0m, in \u001B[0;36mconcatenate\u001B[0;34m(*args, **kwargs)\u001B[0m\n",
      "\u001B[0;31mKeyboardInterrupt\u001B[0m: "
     ]
    }
   ],
   "source": [
    "for idx in tqdm(range(df_new.shape[0])):\n",
    "    n1_word, n2_word = df_new['n1_first_word'].iloc[idx], df_new['n2_first_word'].iloc[idx]\n",
    "    df_curr = df_new.drop(index=idx)\n",
    "    \n",
    "    df_curr_n11 = df_curr[df_curr['n1_first_word'] == n1_word]\n",
    "    df_curr_n11 = df_curr_n11[df_curr_n11['name_1'] != df_new['name_1'].iloc[idx]]\n",
    "    df_result = pd.concat(\n",
    "        [            \n",
    "            df_result,\n",
    "            pd.DataFrame(\n",
    "                {\n",
    "                    'name_1': [df_new['name_1'].iloc[idx] for _ in range(df_curr_n11.shape[0])],\n",
    "                    'name_2': df_curr_n11['name_1'].tolist(),\n",
    "                    'is_duplicate': [1 for _ in range(df_curr_n11.shape[0])],\n",
    "                    'data': ['n11' for _ in range(df_curr_n11.shape[0])]\n",
    "                }\n",
    "            )\n",
    "        ]\n",
    "    )\n",
    "    \n",
    "    df_curr_n12 = df_curr[df_curr['n2_first_word'] == n1_word]\n",
    "    df_curr_n12 = df_curr_n12[df_curr_n12['name_2'] != df_new['name_1'].iloc[idx]]\n",
    "    df_result = pd.concat(\n",
    "        [            \n",
    "            df_result,\n",
    "            pd.DataFrame(\n",
    "                {\n",
    "                    'name_1': [df_new['name_1'].iloc[idx] for _ in range(df_curr_n12.shape[0])],\n",
    "                    'name_2': df_curr_n12['name_2'].tolist(),\n",
    "                    'is_duplicate': [1 for _ in range(df_curr_n12.shape[0])],\n",
    "                    'data': ['n12' for _ in range(df_curr_n12.shape[0])]\n",
    "                }\n",
    "            )\n",
    "        ]\n",
    "    )\n",
    "        \n",
    "        \n",
    "    df_curr_n21 = df_curr[df_curr['n1_first_word'] == n2_word]\n",
    "    df_curr_n21 = df_curr_n21[df_curr_n21['name_1'] != df_new['name_2'].iloc[idx]]\n",
    "    df_result = pd.concat(\n",
    "        [            \n",
    "            df_result,\n",
    "            pd.DataFrame(\n",
    "                {\n",
    "                    'name_1': df_curr_n21['name_1'].tolist(),\n",
    "                    'name_2': [df_new['name_2'].iloc[idx] for _ in range(df_curr_n21.shape[0])],\n",
    "                    'is_duplicate': [1 for _ in range(df_curr_n21.shape[0])],\n",
    "                    'data': ['n21' for _ in range(df_curr_n21.shape[0])]\n",
    "                }\n",
    "            )\n",
    "        ]\n",
    "    )\n",
    "    \n",
    "    \n",
    "    df_curr_n22 = df_curr[df_curr['n2_first_word'] == n2_word]\n",
    "    df_curr_n22 = df_curr_n22[df_curr_n22['name_2'] != df_new['name_2'].iloc[idx]]\n",
    "    df_result = pd.concat(\n",
    "        [            \n",
    "            df_result,\n",
    "            pd.DataFrame(\n",
    "                {\n",
    "                    'name_1': df_curr_n22['name_2'].tolist(),\n",
    "                    'name_2': [df_new['name_2'].iloc[idx] for _ in range(df_curr_n22.shape[0])],\n",
    "                    'is_duplicate': [1 for _ in range(df_curr_n22.shape[0])],\n",
    "                    'data': ['n22' for _ in range(df_curr_n22.shape[0])]\n",
    "                }\n",
    "            )\n",
    "        ]\n",
    "    )    \n",
    "    \n",
    "    del df_curr_n11, df_curr_n12, df_curr_n21, df_curr_n22"
   ]
  },
  {
   "cell_type": "code",
   "execution_count": null,
   "metadata": {},
   "outputs": [],
   "source": []
  }
 ],
 "metadata": {
  "kernelspec": {
   "display_name": "Python 3 (ipykernel)",
   "language": "python",
   "name": "python3"
  },
  "language_info": {
   "codemirror_mode": {
    "name": "ipython",
    "version": 3
   },
   "file_extension": ".py",
   "mimetype": "text/x-python",
   "name": "python",
   "nbconvert_exporter": "python",
   "pygments_lexer": "ipython3",
   "version": "3.8.10"
  }
 },
 "nbformat": 4,
 "nbformat_minor": 1
}
