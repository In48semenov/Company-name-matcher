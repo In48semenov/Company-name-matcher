{
 "cells": [
  {
   "cell_type": "code",
   "execution_count": 12,
   "id": "b8280ad6",
   "metadata": {},
   "outputs": [],
   "source": [
    "import pandas as pd\n",
    "import unicodedata\n",
    "from transliterate import translit"
   ]
  },
  {
   "cell_type": "code",
   "execution_count": 11,
   "id": "7ebf6651",
   "metadata": {},
   "outputs": [
    {
     "name": "stdout",
     "output_type": "stream",
     "text": [
      "(18022, 1)\n"
     ]
    },
    {
     "data": {
      "text/html": [
       "<div>\n",
       "<style scoped>\n",
       "    .dataframe tbody tr th:only-of-type {\n",
       "        vertical-align: middle;\n",
       "    }\n",
       "\n",
       "    .dataframe tbody tr th {\n",
       "        vertical-align: top;\n",
       "    }\n",
       "\n",
       "    .dataframe thead th {\n",
       "        text-align: right;\n",
       "    }\n",
       "</style>\n",
       "<table border=\"1\" class=\"dataframe\">\n",
       "  <thead>\n",
       "    <tr style=\"text-align: right;\">\n",
       "      <th></th>\n",
       "      <th>company</th>\n",
       "    </tr>\n",
       "  </thead>\n",
       "  <tbody>\n",
       "    <tr>\n",
       "      <th>0</th>\n",
       "      <td>Iko Industries Ltd.</td>\n",
       "    </tr>\n",
       "    <tr>\n",
       "      <th>1</th>\n",
       "      <td>Apcotex Industries Ltd.</td>\n",
       "    </tr>\n",
       "    <tr>\n",
       "      <th>2</th>\n",
       "      <td>Rishichem Distributors Pvt., Ltd.</td>\n",
       "    </tr>\n",
       "    <tr>\n",
       "      <th>3</th>\n",
       "      <td>Powermax Rubber Factory</td>\n",
       "    </tr>\n",
       "    <tr>\n",
       "      <th>4</th>\n",
       "      <td>Tress A/S</td>\n",
       "    </tr>\n",
       "    <tr>\n",
       "      <th>5</th>\n",
       "      <td>Wpt Mexico Sa De Cv</td>\n",
       "    </tr>\n",
       "    <tr>\n",
       "      <th>6</th>\n",
       "      <td>National Bank Of</td>\n",
       "    </tr>\n",
       "    <tr>\n",
       "      <th>7</th>\n",
       "      <td>Citibank Korea Inc.</td>\n",
       "    </tr>\n",
       "    <tr>\n",
       "      <th>8</th>\n",
       "      <td>Prettl Electric Del Bajio S.A. De C.V.</td>\n",
       "    </tr>\n",
       "    <tr>\n",
       "      <th>9</th>\n",
       "      <td>Beijing Zhongyi Rongda Tech Trading Co., Ltd.</td>\n",
       "    </tr>\n",
       "  </tbody>\n",
       "</table>\n",
       "</div>"
      ],
      "text/plain": [
       "                                         company\n",
       "0                            Iko Industries Ltd.\n",
       "1                        Apcotex Industries Ltd.\n",
       "2              Rishichem Distributors Pvt., Ltd.\n",
       "3                        Powermax Rubber Factory\n",
       "4                                      Tress A/S\n",
       "5                            Wpt Mexico Sa De Cv\n",
       "6                               National Bank Of\n",
       "7                            Citibank Korea Inc.\n",
       "8         Prettl Electric Del Bajio S.A. De C.V.\n",
       "9  Beijing Zhongyi Rongda Tech Trading Co., Ltd."
      ]
     },
     "execution_count": 11,
     "metadata": {},
     "output_type": "execute_result"
    }
   ],
   "source": [
    "df = pd.read_csv('../data/train.csv')\n",
    "\n",
    "df = pd.concat(\n",
    "    [\n",
    "        df[['name_1']].rename(columns={'name_1': 'company'}),\n",
    "        df[['name_2']].rename(columns={'name_2': 'company'})\n",
    "    ],\n",
    "    ignore_index=True\n",
    ")\n",
    "\n",
    "df = pd.DataFrame(\n",
    "    {'company': df['company'].unique()}\n",
    ")\n",
    "\n",
    "print(df.shape)\n",
    "df.head(10)"
   ]
  },
  {
   "cell_type": "code",
   "execution_count": 15,
   "id": "9eb1de0e",
   "metadata": {},
   "outputs": [
    {
     "name": "stdout",
     "output_type": "stream",
     "text": [
      "(18022, 2)\n"
     ]
    },
    {
     "data": {
      "text/html": [
       "<div>\n",
       "<style scoped>\n",
       "    .dataframe tbody tr th:only-of-type {\n",
       "        vertical-align: middle;\n",
       "    }\n",
       "\n",
       "    .dataframe tbody tr th {\n",
       "        vertical-align: top;\n",
       "    }\n",
       "\n",
       "    .dataframe thead th {\n",
       "        text-align: right;\n",
       "    }\n",
       "</style>\n",
       "<table border=\"1\" class=\"dataframe\">\n",
       "  <thead>\n",
       "    <tr style=\"text-align: right;\">\n",
       "      <th></th>\n",
       "      <th>company</th>\n",
       "      <th>company_preprocess</th>\n",
       "    </tr>\n",
       "  </thead>\n",
       "  <tbody>\n",
       "    <tr>\n",
       "      <th>0</th>\n",
       "      <td>Iko Industries Ltd.</td>\n",
       "      <td>iko industries ltd.</td>\n",
       "    </tr>\n",
       "    <tr>\n",
       "      <th>1</th>\n",
       "      <td>Apcotex Industries Ltd.</td>\n",
       "      <td>apcotex industries ltd.</td>\n",
       "    </tr>\n",
       "    <tr>\n",
       "      <th>2</th>\n",
       "      <td>Rishichem Distributors Pvt., Ltd.</td>\n",
       "      <td>rishichem distributors pvt., ltd.</td>\n",
       "    </tr>\n",
       "    <tr>\n",
       "      <th>3</th>\n",
       "      <td>Powermax Rubber Factory</td>\n",
       "      <td>powermax rubber factory</td>\n",
       "    </tr>\n",
       "    <tr>\n",
       "      <th>4</th>\n",
       "      <td>Tress A/S</td>\n",
       "      <td>tress a/s</td>\n",
       "    </tr>\n",
       "    <tr>\n",
       "      <th>5</th>\n",
       "      <td>Wpt Mexico Sa De Cv</td>\n",
       "      <td>wpt mexico sa de cv</td>\n",
       "    </tr>\n",
       "    <tr>\n",
       "      <th>6</th>\n",
       "      <td>National Bank Of</td>\n",
       "      <td>national bank of</td>\n",
       "    </tr>\n",
       "    <tr>\n",
       "      <th>7</th>\n",
       "      <td>Citibank Korea Inc.</td>\n",
       "      <td>citibank korea inc.</td>\n",
       "    </tr>\n",
       "    <tr>\n",
       "      <th>8</th>\n",
       "      <td>Prettl Electric Del Bajio S.A. De C.V.</td>\n",
       "      <td>prettl electric del bajio s.a. de c.v.</td>\n",
       "    </tr>\n",
       "    <tr>\n",
       "      <th>9</th>\n",
       "      <td>Beijing Zhongyi Rongda Tech Trading Co., Ltd.</td>\n",
       "      <td>beijing zhongyi rongda tech trading co., ltd.</td>\n",
       "    </tr>\n",
       "  </tbody>\n",
       "</table>\n",
       "</div>"
      ],
      "text/plain": [
       "                                         company  \\\n",
       "0                            Iko Industries Ltd.   \n",
       "1                        Apcotex Industries Ltd.   \n",
       "2              Rishichem Distributors Pvt., Ltd.   \n",
       "3                        Powermax Rubber Factory   \n",
       "4                                      Tress A/S   \n",
       "5                            Wpt Mexico Sa De Cv   \n",
       "6                               National Bank Of   \n",
       "7                            Citibank Korea Inc.   \n",
       "8         Prettl Electric Del Bajio S.A. De C.V.   \n",
       "9  Beijing Zhongyi Rongda Tech Trading Co., Ltd.   \n",
       "\n",
       "                              company_preprocess  \n",
       "0                            iko industries ltd.  \n",
       "1                        apcotex industries ltd.  \n",
       "2              rishichem distributors pvt., ltd.  \n",
       "3                        powermax rubber factory  \n",
       "4                                      tress a/s  \n",
       "5                            wpt mexico sa de cv  \n",
       "6                               national bank of  \n",
       "7                            citibank korea inc.  \n",
       "8         prettl electric del bajio s.a. de c.v.  \n",
       "9  beijing zhongyi rongda tech trading co., ltd.  "
      ]
     },
     "execution_count": 15,
     "metadata": {},
     "output_type": "execute_result"
    }
   ],
   "source": [
    "df['company_preprocess'] = df['company'].apply(lambda company: str(company).lower())\n",
    "\n",
    "df['company_preprocess']  = df['company_preprocess'].apply(\n",
    "    lambda company: unicodedata.normalize('NFKD', company)\n",
    ")\n",
    "\n",
    "company = list()\n",
    "for cmp in df['company_preprocess']:\n",
    "    try:\n",
    "        company.append(translit(cmp, reversed=True))\n",
    "    except:\n",
    "        company.append(cmp)\n",
    "\n",
    "df['company_preprocess'] = company\n",
    "\n",
    "print(df.shape)\n",
    "df.head(10)"
   ]
  },
  {
   "cell_type": "code",
   "execution_count": 16,
   "id": "68f7d63d",
   "metadata": {
    "scrolled": true
   },
   "outputs": [
    {
     "data": {
      "text/html": [
       "<div>\n",
       "<style scoped>\n",
       "    .dataframe tbody tr th:only-of-type {\n",
       "        vertical-align: middle;\n",
       "    }\n",
       "\n",
       "    .dataframe tbody tr th {\n",
       "        vertical-align: top;\n",
       "    }\n",
       "\n",
       "    .dataframe thead th {\n",
       "        text-align: right;\n",
       "    }\n",
       "</style>\n",
       "<table border=\"1\" class=\"dataframe\">\n",
       "  <thead>\n",
       "    <tr style=\"text-align: right;\">\n",
       "      <th></th>\n",
       "      <th>company</th>\n",
       "      <th>company_preprocess</th>\n",
       "    </tr>\n",
       "  </thead>\n",
       "  <tbody>\n",
       "    <tr>\n",
       "      <th>18017</th>\n",
       "      <td>Plastic Packaging (Pty) Ltd.</td>\n",
       "      <td>plastic packaging (pty) ltd.</td>\n",
       "    </tr>\n",
       "    <tr>\n",
       "      <th>18018</th>\n",
       "      <td>'Hengshui Mechanical &amp; Electrical Building Co....</td>\n",
       "      <td>'hengshui mechanical &amp; electrical building co....</td>\n",
       "    </tr>\n",
       "    <tr>\n",
       "      <th>18019</th>\n",
       "      <td>Jiangsu Baoli International Investment Co., Lt...</td>\n",
       "      <td>jiangsu baoli international investment co., lt...</td>\n",
       "    </tr>\n",
       "    <tr>\n",
       "      <th>18020</th>\n",
       "      <td>Lanxess AG</td>\n",
       "      <td>lanxess ag</td>\n",
       "    </tr>\n",
       "    <tr>\n",
       "      <th>18021</th>\n",
       "      <td>TGI IMPORT EXPORT CO., LTD.</td>\n",
       "      <td>tgi import export co., ltd.</td>\n",
       "    </tr>\n",
       "  </tbody>\n",
       "</table>\n",
       "</div>"
      ],
      "text/plain": [
       "                                                 company  \\\n",
       "18017                       Plastic Packaging (Pty) Ltd.   \n",
       "18018  'Hengshui Mechanical & Electrical Building Co....   \n",
       "18019  Jiangsu Baoli International Investment Co., Lt...   \n",
       "18020                                         Lanxess AG   \n",
       "18021                        TGI IMPORT EXPORT CO., LTD.   \n",
       "\n",
       "                                      company_preprocess  \n",
       "18017                       plastic packaging (pty) ltd.  \n",
       "18018  'hengshui mechanical & electrical building co....  \n",
       "18019  jiangsu baoli international investment co., lt...  \n",
       "18020                                         lanxess ag  \n",
       "18021                        tgi import export co., ltd.  "
      ]
     },
     "execution_count": 16,
     "metadata": {},
     "output_type": "execute_result"
    }
   ],
   "source": [
    "df.tail()"
   ]
  },
  {
   "cell_type": "code",
   "execution_count": 17,
   "id": "6bc43499",
   "metadata": {
    "scrolled": true
   },
   "outputs": [
    {
     "data": {
      "text/plain": [
       "company               0\n",
       "company_preprocess    0\n",
       "dtype: int64"
      ]
     },
     "execution_count": 17,
     "metadata": {},
     "output_type": "execute_result"
    }
   ],
   "source": [
    "df.isnull().sum()"
   ]
  },
  {
   "cell_type": "code",
   "execution_count": 19,
   "id": "fd84cfd4",
   "metadata": {},
   "outputs": [],
   "source": [
    "df.to_csv('../data/companies_bd.csv', index=False)"
   ]
  },
  {
   "cell_type": "code",
   "execution_count": null,
   "id": "5e2d8e87",
   "metadata": {},
   "outputs": [],
   "source": []
  }
 ],
 "metadata": {
  "kernelspec": {
   "display_name": "Python 3 (ipykernel)",
   "language": "python",
   "name": "python3"
  },
  "language_info": {
   "codemirror_mode": {
    "name": "ipython",
    "version": 3
   },
   "file_extension": ".py",
   "mimetype": "text/x-python",
   "name": "python",
   "nbconvert_exporter": "python",
   "pygments_lexer": "ipython3",
   "version": "3.8.10"
  }
 },
 "nbformat": 4,
 "nbformat_minor": 5
}
